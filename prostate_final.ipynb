{
 "cells": [
  {
   "cell_type": "code",
   "execution_count": 118,
   "metadata": {},
   "outputs": [],
   "source": [
    "import numpy as np\n",
    "from scipy import stats\n",
    "import pandas as pd\n",
    "import math \n",
    "import matplotlib as mpl\n",
    "import matplotlib.pyplot as plt\n",
    "import seaborn as sns\n",
    "import statsmodels.api as sm\n",
    "from statsmodels.stats.outliers_influence import variance_inflation_factor\n",
    "from scipy.stats import f\n",
    "from scipy.stats import ttest_ind\n",
    "from scipy.stats import chi2_contingency\n",
    "from sklearn.utils import resample\n",
    "import statsmodels.stats.multitest as smt\n",
    "from sklearn.model_selection import train_test_split\n",
    "from sklearn.svm import SVC\n",
    "from sklearn.metrics import accuracy_score"
   ]
  },
  {
   "cell_type": "code",
   "execution_count": 119,
   "metadata": {},
   "outputs": [],
   "source": [
    "data = pd.read_excel('participant_files/train.xlsx')"
   ]
  },
  {
   "cell_type": "code",
   "execution_count": 120,
   "metadata": {},
   "outputs": [
    {
     "data": {
      "text/html": [
       "<div>\n",
       "<style scoped>\n",
       "    .dataframe tbody tr th:only-of-type {\n",
       "        vertical-align: middle;\n",
       "    }\n",
       "\n",
       "    .dataframe tbody tr th {\n",
       "        vertical-align: top;\n",
       "    }\n",
       "\n",
       "    .dataframe thead th {\n",
       "        text-align: right;\n",
       "    }\n",
       "</style>\n",
       "<table border=\"1\" class=\"dataframe\">\n",
       "  <thead>\n",
       "    <tr style=\"text-align: right;\">\n",
       "      <th></th>\n",
       "      <th>id</th>\n",
       "      <th>diagnosis_date</th>\n",
       "      <th>gleason_score</th>\n",
       "      <th>t_score</th>\n",
       "      <th>n_score</th>\n",
       "      <th>m_score</th>\n",
       "      <th>stage</th>\n",
       "      <th>age</th>\n",
       "      <th>race</th>\n",
       "      <th>height</th>\n",
       "      <th>...</th>\n",
       "      <th>P03</th>\n",
       "      <th>S04</th>\n",
       "      <th>S07</th>\n",
       "      <th>S10</th>\n",
       "      <th>U01</th>\n",
       "      <th>U02</th>\n",
       "      <th>U03</th>\n",
       "      <th>U05</th>\n",
       "      <th>U06</th>\n",
       "      <th>survival_7_years</th>\n",
       "    </tr>\n",
       "  </thead>\n",
       "  <tbody>\n",
       "    <tr>\n",
       "      <th>0</th>\n",
       "      <td>1</td>\n",
       "      <td>2005-06-01</td>\n",
       "      <td>4.0</td>\n",
       "      <td>T1c</td>\n",
       "      <td>N0</td>\n",
       "      <td>M0</td>\n",
       "      <td>I</td>\n",
       "      <td>86.0</td>\n",
       "      <td>4.0</td>\n",
       "      <td>66.0</td>\n",
       "      <td>...</td>\n",
       "      <td>0</td>\n",
       "      <td>0</td>\n",
       "      <td>0</td>\n",
       "      <td>0</td>\n",
       "      <td>0</td>\n",
       "      <td>0</td>\n",
       "      <td>1</td>\n",
       "      <td>0</td>\n",
       "      <td>0</td>\n",
       "      <td>0</td>\n",
       "    </tr>\n",
       "    <tr>\n",
       "      <th>1</th>\n",
       "      <td>2</td>\n",
       "      <td>2006-02-01</td>\n",
       "      <td>8.0</td>\n",
       "      <td>T3a</td>\n",
       "      <td>N1</td>\n",
       "      <td>M0</td>\n",
       "      <td>IV</td>\n",
       "      <td>66.0</td>\n",
       "      <td>2.0</td>\n",
       "      <td>70.0</td>\n",
       "      <td>...</td>\n",
       "      <td>0</td>\n",
       "      <td>0</td>\n",
       "      <td>1</td>\n",
       "      <td>0</td>\n",
       "      <td>0</td>\n",
       "      <td>0</td>\n",
       "      <td>0</td>\n",
       "      <td>0</td>\n",
       "      <td>1</td>\n",
       "      <td>0</td>\n",
       "    </tr>\n",
       "    <tr>\n",
       "      <th>2</th>\n",
       "      <td>3</td>\n",
       "      <td>2006-03-01</td>\n",
       "      <td>9.0</td>\n",
       "      <td>T1a</td>\n",
       "      <td>N0</td>\n",
       "      <td>M0</td>\n",
       "      <td>IIB</td>\n",
       "      <td>84.0</td>\n",
       "      <td>4.0</td>\n",
       "      <td>69.0</td>\n",
       "      <td>...</td>\n",
       "      <td>0</td>\n",
       "      <td>0</td>\n",
       "      <td>0</td>\n",
       "      <td>1</td>\n",
       "      <td>1</td>\n",
       "      <td>1</td>\n",
       "      <td>1</td>\n",
       "      <td>0</td>\n",
       "      <td>0</td>\n",
       "      <td>1</td>\n",
       "    </tr>\n",
       "    <tr>\n",
       "      <th>3</th>\n",
       "      <td>4</td>\n",
       "      <td>2005-02-01</td>\n",
       "      <td>8.0</td>\n",
       "      <td>T2b</td>\n",
       "      <td>N0</td>\n",
       "      <td>M0</td>\n",
       "      <td>IIB</td>\n",
       "      <td>86.0</td>\n",
       "      <td>3.0</td>\n",
       "      <td>69.0</td>\n",
       "      <td>...</td>\n",
       "      <td>0</td>\n",
       "      <td>0</td>\n",
       "      <td>0</td>\n",
       "      <td>1</td>\n",
       "      <td>1</td>\n",
       "      <td>1</td>\n",
       "      <td>0</td>\n",
       "      <td>0</td>\n",
       "      <td>0</td>\n",
       "      <td>0</td>\n",
       "    </tr>\n",
       "    <tr>\n",
       "      <th>4</th>\n",
       "      <td>5</td>\n",
       "      <td>2001-12-01</td>\n",
       "      <td>8.0</td>\n",
       "      <td>T4</td>\n",
       "      <td>N0</td>\n",
       "      <td>M0</td>\n",
       "      <td>IV</td>\n",
       "      <td>78.0</td>\n",
       "      <td>4.0</td>\n",
       "      <td>70.0</td>\n",
       "      <td>...</td>\n",
       "      <td>0</td>\n",
       "      <td>0</td>\n",
       "      <td>1</td>\n",
       "      <td>0</td>\n",
       "      <td>1</td>\n",
       "      <td>0</td>\n",
       "      <td>1</td>\n",
       "      <td>1</td>\n",
       "      <td>0</td>\n",
       "      <td>0</td>\n",
       "    </tr>\n",
       "    <tr>\n",
       "      <th>5</th>\n",
       "      <td>6</td>\n",
       "      <td>2001-07-01</td>\n",
       "      <td>3.0</td>\n",
       "      <td>T1a</td>\n",
       "      <td>N0</td>\n",
       "      <td>M0</td>\n",
       "      <td>IIA</td>\n",
       "      <td>75.0</td>\n",
       "      <td>4.0</td>\n",
       "      <td>69.0</td>\n",
       "      <td>...</td>\n",
       "      <td>0</td>\n",
       "      <td>0</td>\n",
       "      <td>0</td>\n",
       "      <td>1</td>\n",
       "      <td>0</td>\n",
       "      <td>1</td>\n",
       "      <td>1</td>\n",
       "      <td>0</td>\n",
       "      <td>0</td>\n",
       "      <td>1</td>\n",
       "    </tr>\n",
       "    <tr>\n",
       "      <th>6</th>\n",
       "      <td>7</td>\n",
       "      <td>2005-10-01</td>\n",
       "      <td>8.0</td>\n",
       "      <td>T1b</td>\n",
       "      <td>N0</td>\n",
       "      <td>M0</td>\n",
       "      <td>IIB</td>\n",
       "      <td>85.0</td>\n",
       "      <td>4.0</td>\n",
       "      <td>67.0</td>\n",
       "      <td>...</td>\n",
       "      <td>0</td>\n",
       "      <td>0</td>\n",
       "      <td>1</td>\n",
       "      <td>0</td>\n",
       "      <td>1</td>\n",
       "      <td>1</td>\n",
       "      <td>1</td>\n",
       "      <td>0</td>\n",
       "      <td>0</td>\n",
       "      <td>0</td>\n",
       "    </tr>\n",
       "    <tr>\n",
       "      <th>7</th>\n",
       "      <td>8</td>\n",
       "      <td>2005-12-01</td>\n",
       "      <td>8.0</td>\n",
       "      <td>T4</td>\n",
       "      <td>N0</td>\n",
       "      <td>M0</td>\n",
       "      <td>IV</td>\n",
       "      <td>78.0</td>\n",
       "      <td>4.0</td>\n",
       "      <td>70.0</td>\n",
       "      <td>...</td>\n",
       "      <td>0</td>\n",
       "      <td>0</td>\n",
       "      <td>0</td>\n",
       "      <td>0</td>\n",
       "      <td>1</td>\n",
       "      <td>1</td>\n",
       "      <td>1</td>\n",
       "      <td>0</td>\n",
       "      <td>0</td>\n",
       "      <td>0</td>\n",
       "    </tr>\n",
       "    <tr>\n",
       "      <th>8</th>\n",
       "      <td>9</td>\n",
       "      <td>2004-01-01</td>\n",
       "      <td>6.0</td>\n",
       "      <td>T3b</td>\n",
       "      <td>N0</td>\n",
       "      <td>M0</td>\n",
       "      <td>III</td>\n",
       "      <td>75.0</td>\n",
       "      <td>1.0</td>\n",
       "      <td>69.0</td>\n",
       "      <td>...</td>\n",
       "      <td>0</td>\n",
       "      <td>0</td>\n",
       "      <td>0</td>\n",
       "      <td>0</td>\n",
       "      <td>0</td>\n",
       "      <td>1</td>\n",
       "      <td>1</td>\n",
       "      <td>0</td>\n",
       "      <td>0</td>\n",
       "      <td>1</td>\n",
       "    </tr>\n",
       "    <tr>\n",
       "      <th>9</th>\n",
       "      <td>10</td>\n",
       "      <td>2004-11-01</td>\n",
       "      <td>7.0</td>\n",
       "      <td>T1a</td>\n",
       "      <td>N0</td>\n",
       "      <td>M0</td>\n",
       "      <td>IIA</td>\n",
       "      <td>83.0</td>\n",
       "      <td>2.0</td>\n",
       "      <td>68.0</td>\n",
       "      <td>...</td>\n",
       "      <td>0</td>\n",
       "      <td>0</td>\n",
       "      <td>1</td>\n",
       "      <td>0</td>\n",
       "      <td>1</td>\n",
       "      <td>1</td>\n",
       "      <td>1</td>\n",
       "      <td>0</td>\n",
       "      <td>0</td>\n",
       "      <td>1</td>\n",
       "    </tr>\n",
       "  </tbody>\n",
       "</table>\n",
       "<p>10 rows × 44 columns</p>\n",
       "</div>"
      ],
      "text/plain": [
       "   id diagnosis_date  gleason_score t_score n_score m_score stage   age  race  \\\n",
       "0   1     2005-06-01            4.0     T1c      N0      M0     I  86.0   4.0   \n",
       "1   2     2006-02-01            8.0     T3a      N1      M0    IV  66.0   2.0   \n",
       "2   3     2006-03-01            9.0     T1a      N0      M0   IIB  84.0   4.0   \n",
       "3   4     2005-02-01            8.0     T2b      N0      M0   IIB  86.0   3.0   \n",
       "4   5     2001-12-01            8.0      T4      N0      M0    IV  78.0   4.0   \n",
       "5   6     2001-07-01            3.0     T1a      N0      M0   IIA  75.0   4.0   \n",
       "6   7     2005-10-01            8.0     T1b      N0      M0   IIB  85.0   4.0   \n",
       "7   8     2005-12-01            8.0      T4      N0      M0    IV  78.0   4.0   \n",
       "8   9     2004-01-01            6.0     T3b      N0      M0   III  75.0   1.0   \n",
       "9  10     2004-11-01            7.0     T1a      N0      M0   IIA  83.0   2.0   \n",
       "\n",
       "   height  ...  P03  S04  S07  S10  U01  U02  U03 U05  U06  survival_7_years  \n",
       "0    66.0  ...    0    0    0    0    0    0    1   0    0                 0  \n",
       "1    70.0  ...    0    0    1    0    0    0    0   0    1                 0  \n",
       "2    69.0  ...    0    0    0    1    1    1    1   0    0                 1  \n",
       "3    69.0  ...    0    0    0    1    1    1    0   0    0                 0  \n",
       "4    70.0  ...    0    0    1    0    1    0    1   1    0                 0  \n",
       "5    69.0  ...    0    0    0    1    0    1    1   0    0                 1  \n",
       "6    67.0  ...    0    0    1    0    1    1    1   0    0                 0  \n",
       "7    70.0  ...    0    0    0    0    1    1    1   0    0                 0  \n",
       "8    69.0  ...    0    0    0    0    0    1    1   0    0                 1  \n",
       "9    68.0  ...    0    0    1    0    1    1    1   0    0                 1  \n",
       "\n",
       "[10 rows x 44 columns]"
      ]
     },
     "execution_count": 120,
     "metadata": {},
     "output_type": "execute_result"
    }
   ],
   "source": [
    "data.head(10)"
   ]
  },
  {
   "cell_type": "code",
   "execution_count": 121,
   "metadata": {},
   "outputs": [],
   "source": [
    "df = data\n",
    "df = df.drop('id',axis = 1)"
   ]
  },
  {
   "cell_type": "code",
   "execution_count": 122,
   "metadata": {},
   "outputs": [],
   "source": [
    "df = df.drop(['height','weight','BMI'], axis = 1)"
   ]
  },
  {
   "cell_type": "code",
   "execution_count": 123,
   "metadata": {},
   "outputs": [
    {
     "data": {
      "text/plain": [
       "Obesity                 2567\n",
       "smoker                  1586\n",
       "family_history          1586\n",
       "first_degree_history    1586\n",
       "previous_cancer         1586\n",
       "age                      748\n",
       "gleason_score            320\n",
       "tumor_diagnosis          303\n",
       "race                     165\n",
       "S07                        0\n",
       "O11                        0\n",
       "P01                        0\n",
       "P02                        0\n",
       "P03                        0\n",
       "S04                        0\n",
       "diagnosis_date             0\n",
       "S10                        0\n",
       "U01                        0\n",
       "O09                        0\n",
       "U02                        0\n",
       "U03                        0\n",
       "U05                        0\n",
       "U06                        0\n",
       "O10                        0\n",
       "rad_rem                    0\n",
       "O08                        0\n",
       "O01                        0\n",
       "survival_1_year            0\n",
       "multi_thrpy                0\n",
       "brch_thrpy                 0\n",
       "cry_thrpy                  0\n",
       "chm_thrpy                  0\n",
       "h_thrpy                    0\n",
       "rd_thrpy                   0\n",
       "side                       0\n",
       "stage                      0\n",
       "m_score                    0\n",
       "n_score                    0\n",
       "t_score                    0\n",
       "survival_7_years           0\n",
       "dtype: int64"
      ]
     },
     "execution_count": 123,
     "metadata": {},
     "output_type": "execute_result"
    }
   ],
   "source": [
    "df.isna().sum().sort_values(ascending=False)"
   ]
  },
  {
   "cell_type": "code",
   "execution_count": 124,
   "metadata": {},
   "outputs": [],
   "source": [
    "df1 = df[df.survival_7_years != 0]\n",
    "df0 = df[df.survival_7_years == 0]"
   ]
  },
  {
   "cell_type": "code",
   "execution_count": 125,
   "metadata": {},
   "outputs": [
    {
     "data": {
      "text/plain": [
       "(6651, 40)"
      ]
     },
     "execution_count": 125,
     "metadata": {},
     "output_type": "execute_result"
    }
   ],
   "source": [
    "df1.shape"
   ]
  },
  {
   "cell_type": "code",
   "execution_count": 126,
   "metadata": {},
   "outputs": [
    {
     "data": {
      "text/plain": [
       "(8734, 40)"
      ]
     },
     "execution_count": 126,
     "metadata": {},
     "output_type": "execute_result"
    }
   ],
   "source": [
    "df0.shape"
   ]
  },
  {
   "cell_type": "code",
   "execution_count": 127,
   "metadata": {},
   "outputs": [
    {
     "name": "stdout",
     "output_type": "stream",
     "text": [
      "                      Class1_null  Class0_null\n",
      "diagnosis_date                  0            0\n",
      "gleason_score                 147          173\n",
      "t_score                         0            0\n",
      "n_score                         0            0\n",
      "m_score                         0            0\n",
      "stage                           0            0\n",
      "age                           314          434\n",
      "race                           73           92\n",
      "Obesity                      1070         1497\n",
      "family_history                700          886\n",
      "first_degree_history          700          886\n",
      "previous_cancer               700          886\n",
      "smoker                        700          886\n",
      "side                            0            0\n",
      "tumor_diagnosis               127          176\n",
      "rd_thrpy                        0            0\n",
      "h_thrpy                         0            0\n",
      "chm_thrpy                       0            0\n",
      "cry_thrpy                       0            0\n",
      "brch_thrpy                      0            0\n",
      "rad_rem                         0            0\n",
      "multi_thrpy                     0            0\n",
      "survival_1_year                 0            0\n",
      "O01                             0            0\n",
      "O08                             0            0\n",
      "O09                             0            0\n",
      "O10                             0            0\n",
      "O11                             0            0\n",
      "P01                             0            0\n",
      "P02                             0            0\n",
      "P03                             0            0\n",
      "S04                             0            0\n",
      "S07                             0            0\n",
      "S10                             0            0\n",
      "U01                             0            0\n",
      "U02                             0            0\n",
      "U03                             0            0\n",
      "U05                             0            0\n",
      "U06                             0            0\n",
      "survival_7_years                0            0\n"
     ]
    }
   ],
   "source": [
    "null_count1 = pd.DataFrame(df1.isna().sum())\n",
    "null_count0 = pd.DataFrame(df0.isna().sum())\n",
    "null_classtable = pd.concat([null_count1, null_count0], axis = 1)\n",
    "null_classtable.columns = ['Class1_null', 'Class0_null']\n",
    "print(null_classtable)"
   ]
  },
  {
   "cell_type": "code",
   "execution_count": 128,
   "metadata": {},
   "outputs": [],
   "source": [
    "test_df = pd.read_excel('participant_files/SiddarthaPadala_score.xlsx')"
   ]
  },
  {
   "cell_type": "code",
   "execution_count": 129,
   "metadata": {},
   "outputs": [],
   "source": [
    "test_null = pd.DataFrame(test_df.isna().sum())"
   ]
  },
  {
   "cell_type": "code",
   "execution_count": 130,
   "metadata": {},
   "outputs": [],
   "source": [
    "data_null = pd.DataFrame(data.isna().sum())"
   ]
  },
  {
   "cell_type": "code",
   "execution_count": 131,
   "metadata": {},
   "outputs": [],
   "source": [
    "null_table = pd.concat([data_null, test_null], axis=1)\n",
    "null_table.columns = ['data_null', 'test_null']"
   ]
  },
  {
   "cell_type": "code",
   "execution_count": 132,
   "metadata": {},
   "outputs": [
    {
     "name": "stdout",
     "output_type": "stream",
     "text": [
      "                      data_null  test_null\n",
      "id                            0          0\n",
      "diagnosis_date                0          0\n",
      "gleason_score               320        239\n",
      "t_score                       0          0\n",
      "n_score                       0          0\n",
      "m_score                       0          0\n",
      "stage                         0          0\n",
      "age                         748        648\n",
      "race                        165        121\n",
      "height                     1364       1043\n",
      "weight                     1317       1041\n",
      "BMI                        2567       1987\n",
      "Obesity                    2567       1987\n",
      "family_history             1586       1171\n",
      "first_degree_history       1586       1171\n",
      "previous_cancer            1586       1171\n",
      "smoker                     1586       1171\n",
      "side                          0          0\n",
      "tumor_diagnosis             303        210\n",
      "rd_thrpy                      0          0\n",
      "h_thrpy                       0          0\n",
      "chm_thrpy                     0          0\n",
      "cry_thrpy                     0          0\n",
      "brch_thrpy                    0          0\n",
      "rad_rem                       0          0\n",
      "multi_thrpy                   0          0\n",
      "survival_1_year               0       5713\n",
      "O01                           0          0\n",
      "O08                           0          0\n",
      "O09                           0          0\n",
      "O10                           0          0\n",
      "O11                           0          0\n",
      "P01                           0          0\n",
      "P02                           0          0\n",
      "P03                           0          0\n",
      "S04                           0          0\n",
      "S07                           0          0\n",
      "S10                           0          0\n",
      "U01                           0          0\n",
      "U02                           0          0\n",
      "U03                           0          0\n",
      "U05                           0          0\n",
      "U06                           0          0\n",
      "survival_7_years              0      11531\n"
     ]
    }
   ],
   "source": [
    "print(null_table)"
   ]
  },
  {
   "cell_type": "markdown",
   "metadata": {},
   "source": [
    "As the survival_1_year feature has null values in the test data and no null values in train data, we would not be able to predict the target variable for null values in test data. Therefore, we should drop this column from our analysis."
   ]
  },
  {
   "cell_type": "code",
   "execution_count": 133,
   "metadata": {},
   "outputs": [],
   "source": [
    "df_c = df.drop('survival_1_year', axis = 1)"
   ]
  },
  {
   "cell_type": "code",
   "execution_count": 134,
   "metadata": {},
   "outputs": [
    {
     "data": {
      "text/plain": [
       "Obesity                 2567\n",
       "smoker                  1586\n",
       "family_history          1586\n",
       "first_degree_history    1586\n",
       "previous_cancer         1586\n",
       "age                      748\n",
       "gleason_score            320\n",
       "tumor_diagnosis          303\n",
       "race                     165\n",
       "S07                        0\n",
       "O11                        0\n",
       "P01                        0\n",
       "P02                        0\n",
       "P03                        0\n",
       "S04                        0\n",
       "diagnosis_date             0\n",
       "S10                        0\n",
       "U01                        0\n",
       "O09                        0\n",
       "U02                        0\n",
       "U03                        0\n",
       "U05                        0\n",
       "U06                        0\n",
       "O10                        0\n",
       "brch_thrpy                 0\n",
       "O08                        0\n",
       "O01                        0\n",
       "multi_thrpy                0\n",
       "rad_rem                    0\n",
       "cry_thrpy                  0\n",
       "chm_thrpy                  0\n",
       "h_thrpy                    0\n",
       "rd_thrpy                   0\n",
       "side                       0\n",
       "stage                      0\n",
       "m_score                    0\n",
       "n_score                    0\n",
       "t_score                    0\n",
       "survival_7_years           0\n",
       "dtype: int64"
      ]
     },
     "execution_count": 134,
     "metadata": {},
     "output_type": "execute_result"
    }
   ],
   "source": [
    "df_c.isna().sum().sort_values(ascending = False)"
   ]
  },
  {
   "cell_type": "code",
   "execution_count": 135,
   "metadata": {},
   "outputs": [
    {
     "data": {
      "text/plain": [
       "diagnosis_date          datetime64[ns]\n",
       "gleason_score                  float64\n",
       "t_score                         object\n",
       "n_score                         object\n",
       "m_score                         object\n",
       "stage                           object\n",
       "age                            float64\n",
       "race                           float64\n",
       "Obesity                        float64\n",
       "family_history                 float64\n",
       "first_degree_history           float64\n",
       "previous_cancer                float64\n",
       "smoker                         float64\n",
       "side                            object\n",
       "tumor_diagnosis                float64\n",
       "rd_thrpy                         int64\n",
       "h_thrpy                          int64\n",
       "chm_thrpy                        int64\n",
       "cry_thrpy                        int64\n",
       "brch_thrpy                       int64\n",
       "rad_rem                          int64\n",
       "multi_thrpy                      int64\n",
       "O01                              int64\n",
       "O08                              int64\n",
       "O09                              int64\n",
       "O10                              int64\n",
       "O11                              int64\n",
       "P01                              int64\n",
       "P02                              int64\n",
       "P03                              int64\n",
       "S04                              int64\n",
       "S07                              int64\n",
       "S10                              int64\n",
       "U01                              int64\n",
       "U02                              int64\n",
       "U03                              int64\n",
       "U05                              int64\n",
       "U06                              int64\n",
       "survival_7_years                 int64\n",
       "dtype: object"
      ]
     },
     "execution_count": 135,
     "metadata": {},
     "output_type": "execute_result"
    }
   ],
   "source": [
    "df_c.dtypes"
   ]
  },
  {
   "cell_type": "code",
   "execution_count": 136,
   "metadata": {},
   "outputs": [],
   "source": [
    "def replace_age(val):\n",
    "    if val <= 45:\n",
    "        return 1\n",
    "    elif val > 45 and val < 60:\n",
    "        return 2\n",
    "    elif val >=60 and val < 75:\n",
    "        return 3\n",
    "    elif val >= 75:\n",
    "        return 4\n",
    "    else:\n",
    "        return val\n",
    "\n",
    "df_c['age_group'] = df_c['age'].apply(replace_age)"
   ]
  },
  {
   "cell_type": "code",
   "execution_count": 369,
   "metadata": {},
   "outputs": [],
   "source": [
    "# df_c['age_group1'] = 0\n",
    "# df_c['age_group2'] = 0\n",
    "# df_c['age_group3'] = 0\n",
    "# df_c['age_group4'] = 0\n",
    "\n",
    "# df_c.loc[df_c['age'] <= 45, 'age_group1'] = 1\n",
    "# df_c.loc[(df_c['age'] > 45) & (df_c['age'] <= 60), 'age_group2'] = 1\n",
    "# df_c.loc[(df_c['age'] > 60) & (df_c['age'] <= 75), 'age_group3'] = 1\n",
    "# df_c.loc[df_c['age'] > 75, 'age_group4'] = 1"
   ]
  },
  {
   "cell_type": "code",
   "execution_count": 137,
   "metadata": {},
   "outputs": [
    {
     "data": {
      "text/plain": [
       "Index(['diagnosis_date', 'gleason_score', 't_score', 'n_score', 'm_score',\n",
       "       'stage', 'age', 'race', 'Obesity', 'family_history',\n",
       "       'first_degree_history', 'previous_cancer', 'smoker', 'side',\n",
       "       'tumor_diagnosis', 'rd_thrpy', 'h_thrpy', 'chm_thrpy', 'cry_thrpy',\n",
       "       'brch_thrpy', 'rad_rem', 'multi_thrpy', 'O01', 'O08', 'O09', 'O10',\n",
       "       'O11', 'P01', 'P02', 'P03', 'S04', 'S07', 'S10', 'U01', 'U02', 'U03',\n",
       "       'U05', 'U06', 'survival_7_years', 'age_group'],\n",
       "      dtype='object')"
      ]
     },
     "execution_count": 137,
     "metadata": {},
     "output_type": "execute_result"
    }
   ],
   "source": [
    "df_c.columns"
   ]
  },
  {
   "cell_type": "code",
   "execution_count": 138,
   "metadata": {},
   "outputs": [],
   "source": [
    "df_c = df_c.drop('age', axis = 1)"
   ]
  },
  {
   "cell_type": "code",
   "execution_count": 139,
   "metadata": {},
   "outputs": [
    {
     "name": "stdout",
     "output_type": "stream",
     "text": [
      "11.771977006055414\n",
      "7.503669578708669e-32\n"
     ]
    }
   ],
   "source": [
    "df_clean = df_c[['tumor_diagnosis', 'survival_7_years']].dropna()\n",
    "group1 = df_clean.loc[df_clean['survival_7_years'] == 0, 'tumor_diagnosis']\n",
    "group2 = df_clean.loc[df_clean['survival_7_years'] == 1, 'tumor_diagnosis']\n",
    "\n",
    "    # Perform the two-sample t-test\n",
    "t_stat, p_value = ttest_ind(group1, group2)\n",
    "    \n",
    "print(t_stat)\n",
    "print(p_value)\n"
   ]
  },
  {
   "cell_type": "code",
   "execution_count": 140,
   "metadata": {},
   "outputs": [],
   "source": [
    "def replace_gleason_score(val):\n",
    "    if val < 7:\n",
    "        return 1\n",
    "    elif val >= 7 and val < 8:\n",
    "        return 2\n",
    "    elif val >=8 and val < 9:\n",
    "        return 3\n",
    "    elif val >= 9:\n",
    "        return 4\n",
    "    else:\n",
    "        return val\n",
    "\n",
    "df_c['gleason_grade'] = df_c['gleason_score'].apply(replace_gleason_score)"
   ]
  },
  {
   "cell_type": "code",
   "execution_count": 141,
   "metadata": {},
   "outputs": [],
   "source": [
    "def replace_first_degree_history(val):\n",
    "    if val > 2:\n",
    "        return 2\n",
    "    else:\n",
    "        return val\n",
    "\n",
    "df_c['first_degree_history'] = df_c['first_degree_history'].apply(replace_first_degree_history)"
   ]
  },
  {
   "cell_type": "code",
   "execution_count": 142,
   "metadata": {},
   "outputs": [],
   "source": [
    "def replace_family_history(val):\n",
    "    if val > 3:\n",
    "        return 3\n",
    "    else:\n",
    "        return val\n",
    "\n",
    "df_c['family_history'] = df_c['family_history'].apply(replace_family_history)"
   ]
  },
  {
   "cell_type": "code",
   "execution_count": 143,
   "metadata": {},
   "outputs": [],
   "source": [
    "num_cols = ['tumor_diagnosis']\n",
    "cat_cols = ['gleason_score', 't_score', 'n_score', 'm_score','stage', 'race', 'Obesity', 'family_history',\n",
    "            'first_degree_history', 'previous_cancer', 'smoker', 'side', 'rd_thrpy', 'h_thrpy', 'chm_thrpy', \n",
    "            'cry_thrpy', 'brch_thrpy', 'rad_rem', 'multi_thrpy', 'O01', 'O08', 'O09', 'O10', 'O11', 'P01', \n",
    "            'P02', 'P03', 'S04', 'S07', 'S10', 'U01', 'U02', 'U03', 'U05', 'U06', 'age_group','gleason_grade']"
   ]
  },
  {
   "cell_type": "code",
   "execution_count": 144,
   "metadata": {},
   "outputs": [
    {
     "data": {
      "text/plain": [
       "Index(['diagnosis_date', 'gleason_score', 't_score', 'n_score', 'm_score',\n",
       "       'stage', 'race', 'Obesity', 'family_history', 'first_degree_history',\n",
       "       'previous_cancer', 'smoker', 'side', 'tumor_diagnosis', 'rd_thrpy',\n",
       "       'h_thrpy', 'chm_thrpy', 'cry_thrpy', 'brch_thrpy', 'rad_rem',\n",
       "       'multi_thrpy', 'O01', 'O08', 'O09', 'O10', 'O11', 'P01', 'P02', 'P03',\n",
       "       'S04', 'S07', 'S10', 'U01', 'U02', 'U03', 'U05', 'U06',\n",
       "       'survival_7_years', 'age_group', 'gleason_grade'],\n",
       "      dtype='object')"
      ]
     },
     "execution_count": 144,
     "metadata": {},
     "output_type": "execute_result"
    }
   ],
   "source": [
    "df_c.columns"
   ]
  },
  {
   "cell_type": "code",
   "execution_count": null,
   "metadata": {},
   "outputs": [],
   "source": [
    "nrows = 10\n",
    "ncols = 4\n",
    "fig, axs = plt.subplots(nrows=nrows, ncols=ncols, figsize=(20, 50))\n",
    "fig.subplots_adjust(hspace=0.5)\n",
    "\n",
    "# Flatten the axis array to make it easier to iterate over\n",
    "axs = axs.flatten()\n",
    "\n",
    "# Loop over each column in the DataFrame and create a count plot\n",
    "for i, col in enumerate(cat_cols):\n",
    "    sns.countplot(x=col, data=df_c, ax=axs[i])\n",
    "    axs[i].set_title(col)\n",
    "    # Add counts on top of each bar\n",
    "    for p in axs[i].patches:\n",
    "        axs[i].annotate('{:.0f}'.format(p.get_height()), (p.get_x()+0.4, p.get_height()+5))\n",
    "\n",
    "# Hide any remaining empty subplots\n",
    "for i in range(len(df_c.columns), nrows*ncols):\n",
    "    axs[i].axis('off')\n",
    "\n",
    "plt.show()"
   ]
  },
  {
   "cell_type": "code",
   "execution_count": 146,
   "metadata": {},
   "outputs": [],
   "source": [
    "def chi_squared_test(df, independent_var, target_var):\n",
    "    \"\"\"\n",
    "    Perform a chi-squared test for independence between a categorical independent variable\n",
    "    and a binary target variable.\n",
    "\n",
    "    Args:\n",
    "        df (pandas.DataFrame): The input DataFrame.\n",
    "        independent_var (str): The name of the column containing the independent variable.\n",
    "        target_var (str): The name of the column containing the binary target variable.\n",
    "\n",
    "    Returns:\n",
    "        A tuple containing the chi-squared statistic, the p-value, the degrees of freedom, and\n",
    "        the expected frequencies for each level of the independent variable.\n",
    "    \"\"\"\n",
    "    df_clean = df[[independent_var, target_var]].dropna()\n",
    "    # Create a contingency table of the two variables\n",
    "    contingency_table = pd.crosstab(df_clean[independent_var], df_clean[target_var])\n",
    "\n",
    "    # Perform the chi-squared test\n",
    "    chi2, p_value, dof, expected = chi2_contingency(contingency_table)\n",
    "\n",
    "    # Return the results of the chi-squared test\n",
    "    return chi2, p_value, dof, expected"
   ]
  },
  {
   "cell_type": "code",
   "execution_count": 147,
   "metadata": {},
   "outputs": [
    {
     "name": "stdout",
     "output_type": "stream",
     "text": [
      "                  Column  Chi-Squared        P-Value  Degrees of Freedom\n",
      "0          gleason_score   441.973316   1.076126e-88                  10\n",
      "1                t_score   169.063670   9.668435e-32                   9\n",
      "2                n_score   869.336301  1.682755e-189                   2\n",
      "3                m_score   379.792151   5.272716e-82                   3\n",
      "4                  stage   698.852773  6.175118e-150                   4\n",
      "5                   race    14.741022   2.051886e-03                   3\n",
      "6                Obesity    12.939614   3.217013e-04                   1\n",
      "7         family_history     3.686167   2.974074e-01                   3\n",
      "8   first_degree_history     9.306678   9.529728e-03                   2\n",
      "9        previous_cancer     5.577015   1.819771e-02                   1\n",
      "10                smoker     0.766161   3.814072e-01                   1\n",
      "11                  side     0.768288   6.810332e-01                   2\n",
      "12              rd_thrpy   267.649264   3.691901e-60                   1\n",
      "13               h_thrpy     4.981030   2.562672e-02                   1\n",
      "14             chm_thrpy   114.008319   1.297630e-26                   1\n",
      "15             cry_thrpy    48.137145   3.974260e-12                   1\n",
      "16            brch_thrpy    37.438869   9.432350e-10                   1\n",
      "17               rad_rem     4.472554   3.444347e-02                   1\n",
      "18           multi_thrpy    75.772995   3.182235e-18                   1\n",
      "19                   O01   103.023938   3.311231e-24                   1\n",
      "20                   O08    97.245800   6.123375e-23                   1\n",
      "21                   O09    94.595514   2.335470e-22                   1\n",
      "22                   O10    40.043632   2.483531e-10                   1\n",
      "23                   O11     0.194753   6.589898e-01                   1\n",
      "24                   P01   169.018014   1.212399e-38                   1\n",
      "25                   P02   124.825685   5.556777e-29                   1\n",
      "26                   P03    57.435510   3.492447e-14                   1\n",
      "27                   S04     1.045269   3.065991e-01                   1\n",
      "28                   S07     3.548126   5.961273e-02                   1\n",
      "29                   S10    75.678960   3.337449e-18                   1\n",
      "30                   U01     1.009527   3.150162e-01                   1\n",
      "31                   U02     0.391786   5.313623e-01                   1\n",
      "32                   U03     0.069136   7.925984e-01                   1\n",
      "33                   U05    65.344377   6.288910e-16                   1\n",
      "34                   U06     0.321680   5.705999e-01                   1\n",
      "35             age_group     9.328606   2.522638e-02                   3\n",
      "36         gleason_grade   404.418195   2.444162e-87                   3\n"
     ]
    }
   ],
   "source": [
    "target_var = 'survival_7_years'\n",
    "\n",
    "# Iterate over each column in the DataFrame, and perform the chi-squared test on each categorical column\n",
    "chi2_results = []\n",
    "for col in cat_cols:\n",
    "  chi2, p_value, dof, expected = chi_squared_test(df_c, col, target_var)\n",
    "  chi2_results.append((col, chi2, p_value, dof))\n",
    "\n",
    "# Convert the results to a DataFrame and print the table\n",
    "chi2_results_df = pd.DataFrame(chi2_results, columns=['Column', 'Chi-Squared', 'P-Value', 'Degrees of Freedom'])\n",
    "print(chi2_results_df)"
   ]
  },
  {
   "cell_type": "code",
   "execution_count": 148,
   "metadata": {},
   "outputs": [],
   "source": [
    "df_c = df_c.drop(['family_history','side','O11','S04','S07','U01','U02','U03',\n",
    "                  'U06','gleason_score','t_score','m_score','n_score'],axis = 1)"
   ]
  },
  {
   "cell_type": "code",
   "execution_count": 149,
   "metadata": {},
   "outputs": [
    {
     "data": {
      "text/plain": [
       "Obesity                 2567\n",
       "first_degree_history    1586\n",
       "previous_cancer         1586\n",
       "smoker                  1586\n",
       "age_group                748\n",
       "gleason_grade            320\n",
       "tumor_diagnosis          303\n",
       "race                     165\n",
       "O09                        0\n",
       "survival_7_years           0\n",
       "U05                        0\n",
       "S10                        0\n",
       "P03                        0\n",
       "P02                        0\n",
       "P01                        0\n",
       "O10                        0\n",
       "diagnosis_date             0\n",
       "O08                        0\n",
       "O01                        0\n",
       "multi_thrpy                0\n",
       "stage                      0\n",
       "brch_thrpy                 0\n",
       "cry_thrpy                  0\n",
       "chm_thrpy                  0\n",
       "h_thrpy                    0\n",
       "rd_thrpy                   0\n",
       "rad_rem                    0\n",
       "dtype: int64"
      ]
     },
     "execution_count": 149,
     "metadata": {},
     "output_type": "execute_result"
    }
   ],
   "source": [
    "df_c.isna().sum().sort_values(ascending = False)"
   ]
  },
  {
   "cell_type": "code",
   "execution_count": 150,
   "metadata": {},
   "outputs": [
    {
     "data": {
      "text/plain": [
       "Index(['diagnosis_date', 'stage', 'race', 'Obesity', 'first_degree_history',\n",
       "       'previous_cancer', 'smoker', 'tumor_diagnosis', 'rd_thrpy', 'h_thrpy',\n",
       "       'chm_thrpy', 'cry_thrpy', 'brch_thrpy', 'rad_rem', 'multi_thrpy', 'O01',\n",
       "       'O08', 'O09', 'O10', 'P01', 'P02', 'P03', 'S10', 'U05',\n",
       "       'survival_7_years', 'age_group', 'gleason_grade'],\n",
       "      dtype='object')"
      ]
     },
     "execution_count": 150,
     "metadata": {},
     "output_type": "execute_result"
    }
   ],
   "source": [
    "df_c.columns"
   ]
  },
  {
   "cell_type": "code",
   "execution_count": 151,
   "metadata": {},
   "outputs": [
    {
     "name": "stderr",
     "output_type": "stream",
     "text": [
      "/Users/siddartha/Library/Python/3.9/lib/python/site-packages/seaborn/axisgrid.py:447: RuntimeWarning: More than 20 figures have been opened. Figures created through the pyplot interface (`matplotlib.pyplot.figure`) are retained until explicitly closed and may consume too much memory. (To control this warning, see the rcParam `figure.max_open_warning`). Consider using `matplotlib.pyplot.close()`.\n",
      "  fig = plt.figure(figsize=figsize)\n"
     ]
    },
    {
     "data": {
      "image/png": "[encoded data removed]",
      "text/plain": [
       "<Figure size 626.611x500 with 1 Axes>"
      ]
     },
     "metadata": {},
     "output_type": "display_data"
    },
    {
     "data": {
      "image/png": "[encoded data removed]",
      "text/plain": [
       "<Figure size 626.611x500 with 1 Axes>"
      ]
     },
     "metadata": {},
     "output_type": "display_data"
    },
    {
     "data": {
      "image/png": "[encoded data removed]",
      "text/plain": [
       "<Figure size 626.611x500 with 1 Axes>"
      ]
     },
     "metadata": {},
     "output_type": "display_data"
    },
    {
     "data": {
      "image/png": "[encoded data removed]",
      "text/plain": [
       "<Figure size 626.611x500 with 1 Axes>"
      ]
     },
     "metadata": {},
     "output_type": "display_data"
    },
    {
     "data": {
      "image/png": "[encoded data removed]",
      "text/plain": [
       "<Figure size 626.611x500 with 1 Axes>"
      ]
     },
     "metadata": {},
     "output_type": "display_data"
    },
    {
     "data": {
      "image/png": "[encoded data removed]",
      "text/plain": [
       "<Figure size 626.611x500 with 1 Axes>"
      ]
     },
     "metadata": {},
     "output_type": "display_data"
    },
    {
     "data": {
      "image/png": "[encoded data removed]",
      "text/plain": [
       "<Figure size 626.611x500 with 1 Axes>"
      ]
     },
     "metadata": {},
     "output_type": "display_data"
    },
    {
     "data": {
      "image/png": "[encoded data removed]",
      "text/plain": [
       "<Figure size 626.611x500 with 1 Axes>"
      ]
     },
     "metadata": {},
     "output_type": "display_data"
    },
    {
     "data": {
      "image/png": "[encoded data removed]",
      "text/plain": [
       "<Figure size 626.611x500 with 1 Axes>"
      ]
     },
     "metadata": {},
     "output_type": "display_data"
    },
    {
     "data": {
      "image/png": "[encoded data removed]",
      "text/plain": [
       "<Figure size 626.611x500 with 1 Axes>"
      ]
     },
     "metadata": {},
     "output_type": "display_data"
    },
    {
     "data": {
      "image/png": "[encoded data removed]",
      "text/plain": [
       "<Figure size 626.611x500 with 1 Axes>"
      ]
     },
     "metadata": {},
     "output_type": "display_data"
    },
    {
     "data": {
      "image/png": "[encoded data removed]",
      "text/plain": [
       "<Figure size 626.611x500 with 1 Axes>"
      ]
     },
     "metadata": {},
     "output_type": "display_data"
    },
    {
     "data": {
      "image/png": "[encoded data removed]",
      "text/plain": [
       "<Figure size 626.611x500 with 1 Axes>"
      ]
     },
     "metadata": {},
     "output_type": "display_data"
    },
    {
     "data": {
      "image/png": "[encoded data removed]",
      "text/plain": [
       "<Figure size 626.611x500 with 1 Axes>"
      ]
     },
     "metadata": {},
     "output_type": "display_data"
    },
    {
     "data": {
      "image/png": "[encoded data removed]",
      "text/plain": [
       "<Figure size 626.611x500 with 1 Axes>"
      ]
     },
     "metadata": {},
     "output_type": "display_data"
    },
    {
     "data": {
      "image/png": "[encoded data removed]",
      "text/plain": [
       "<Figure size 626.611x500 with 1 Axes>"
      ]
     },
     "metadata": {},
     "output_type": "display_data"
    },
    {
     "data": {
      "image/png": "[encoded data removed]",
      "text/plain": [
       "<Figure size 626.611x500 with 1 Axes>"
      ]
     },
     "metadata": {},
     "output_type": "display_data"
    },
    {
     "data": {
      "image/png": "[encoded data removed]",
      "text/plain": [
       "<Figure size 626.611x500 with 1 Axes>"
      ]
     },
     "metadata": {},
     "output_type": "display_data"
    },
    {
     "data": {
      "image/png": "[encoded data removed]",
      "text/plain": [
       "<Figure size 626.611x500 with 1 Axes>"
      ]
     },
     "metadata": {},
     "output_type": "display_data"
    },
    {
     "data": {
      "image/png": "[encoded data removed]",
      "text/plain": [
       "<Figure size 626.611x500 with 1 Axes>"
      ]
     },
     "metadata": {},
     "output_type": "display_data"
    },
    {
     "data": {
      "image/png": "[encoded data removed]",
      "text/plain": [
       "<Figure size 626.611x500 with 1 Axes>"
      ]
     },
     "metadata": {},
     "output_type": "display_data"
    },
    {
     "data": {
      "image/png": "[encoded data removed]",
      "text/plain": [
       "<Figure size 626.611x500 with 1 Axes>"
      ]
     },
     "metadata": {},
     "output_type": "display_data"
    },
    {
     "data": {
      "image/png": "[encoded data removed]",
      "text/plain": [
       "<Figure size 626.611x500 with 1 Axes>"
      ]
     },
     "metadata": {},
     "output_type": "display_data"
    },
    {
     "data": {
      "image/png": "[encoded data removed]",
      "text/plain": [
       "<Figure size 626.611x500 with 1 Axes>"
      ]
     },
     "metadata": {},
     "output_type": "display_data"
    }
   ],
   "source": [
    "target_var = 'survival_7_years'\n",
    "cat_vars = ['stage', 'race', 'Obesity', 'first_degree_history', 'previous_cancer','smoker', \n",
    "            'rd_thrpy','h_thrpy', 'chm_thrpy','cry_thrpy', 'brch_thrpy', 'rad_rem', 'multi_thrpy', \n",
    "            'O01', 'O08','O09', 'O10', 'P01', 'P02', 'P03', 'S10', 'U05', 'age_group', \n",
    "            'gleason_grade']\n",
    "# Loop over categorical variables and create plots\n",
    "for var in cat_vars:\n",
    "    sns.catplot(x=var, hue=target_var, data=df_c, kind='count')"
   ]
  },
  {
   "cell_type": "code",
   "execution_count": 152,
   "metadata": {},
   "outputs": [
    {
     "data": {
      "text/plain": [
       "diagnosis_date             0\n",
       "stage                      0\n",
       "race                     165\n",
       "Obesity                 2567\n",
       "first_degree_history    1586\n",
       "previous_cancer         1586\n",
       "smoker                  1586\n",
       "tumor_diagnosis          303\n",
       "rd_thrpy                   0\n",
       "h_thrpy                    0\n",
       "chm_thrpy                  0\n",
       "cry_thrpy                  0\n",
       "brch_thrpy                 0\n",
       "rad_rem                    0\n",
       "multi_thrpy                0\n",
       "O01                        0\n",
       "O08                        0\n",
       "O09                        0\n",
       "O10                        0\n",
       "P01                        0\n",
       "P02                        0\n",
       "P03                        0\n",
       "S10                        0\n",
       "U05                        0\n",
       "survival_7_years           0\n",
       "age_group                748\n",
       "gleason_grade            320\n",
       "dtype: int64"
      ]
     },
     "execution_count": 152,
     "metadata": {},
     "output_type": "execute_result"
    }
   ],
   "source": [
    "df_c.isna().sum()"
   ]
  },
  {
   "cell_type": "code",
   "execution_count": 153,
   "metadata": {},
   "outputs": [
    {
     "data": {
      "text/plain": [
       "<seaborn.axisgrid.FacetGrid at 0x16b79b190>"
      ]
     },
     "execution_count": 153,
     "metadata": {},
     "output_type": "execute_result"
    },
    {
     "data": {
      "image/png": "[encoded data removed]",
      "text/plain": [
       "<Figure size 569.611x500 with 1 Axes>"
      ]
     },
     "metadata": {},
     "output_type": "display_data"
    },
    {
     "data": {
      "image/png": "[encoded data removed]",
      "text/plain": [
       "<Figure size 569.611x500 with 1 Axes>"
      ]
     },
     "metadata": {},
     "output_type": "display_data"
    }
   ],
   "source": [
    "# Set the names of the three categorical columns\n",
    "cat_col1 = 'rd_thrpy'\n",
    "cat_col2 = 'stage'\n",
    "cat_col3 = 'survival_7_years'\n",
    "\n",
    "df_c1 = df_c[df_c[cat_col3] != 0]\n",
    "df_c0 = df_c[df_c[cat_col3] == 0]\n",
    "\n",
    "sns.catplot(x=cat_col2, hue=cat_col1, data=df_c1, kind='count')\n",
    "sns.catplot(x=cat_col2, hue=cat_col1, data=df_c0, kind='count')"
   ]
  },
  {
   "cell_type": "code",
   "execution_count": 154,
   "metadata": {},
   "outputs": [
    {
     "data": {
      "text/plain": [
       "Index(['diagnosis_date', 'stage', 'race', 'Obesity', 'first_degree_history',\n",
       "       'previous_cancer', 'smoker', 'tumor_diagnosis', 'rd_thrpy', 'h_thrpy',\n",
       "       'chm_thrpy', 'cry_thrpy', 'brch_thrpy', 'rad_rem', 'multi_thrpy', 'O01',\n",
       "       'O08', 'O09', 'O10', 'P01', 'P02', 'P03', 'S10', 'U05',\n",
       "       'survival_7_years', 'age_group', 'gleason_grade'],\n",
       "      dtype='object')"
      ]
     },
     "execution_count": 154,
     "metadata": {},
     "output_type": "execute_result"
    }
   ],
   "source": [
    "df_c.columns"
   ]
  },
  {
   "cell_type": "code",
   "execution_count": 155,
   "metadata": {},
   "outputs": [
    {
     "data": {
      "text/plain": [
       "diagnosis_date             0\n",
       "stage                      0\n",
       "race                     165\n",
       "Obesity                 2567\n",
       "first_degree_history    1586\n",
       "previous_cancer         1586\n",
       "smoker                  1586\n",
       "tumor_diagnosis          303\n",
       "rd_thrpy                   0\n",
       "h_thrpy                    0\n",
       "chm_thrpy                  0\n",
       "cry_thrpy                  0\n",
       "brch_thrpy                 0\n",
       "rad_rem                    0\n",
       "multi_thrpy                0\n",
       "O01                        0\n",
       "O08                        0\n",
       "O09                        0\n",
       "O10                        0\n",
       "P01                        0\n",
       "P02                        0\n",
       "P03                        0\n",
       "S10                        0\n",
       "U05                        0\n",
       "survival_7_years           0\n",
       "age_group                748\n",
       "gleason_grade            320\n",
       "dtype: int64"
      ]
     },
     "execution_count": 155,
     "metadata": {},
     "output_type": "execute_result"
    }
   ],
   "source": [
    "df_c.isna().sum()"
   ]
  },
  {
   "cell_type": "code",
   "execution_count": 156,
   "metadata": {},
   "outputs": [
    {
     "name": "stderr",
     "output_type": "stream",
     "text": [
      "/var/folders/wy/y81s23xx1qdf2640d4mj4g500000gn/T/ipykernel_35320/1672577555.py:18: SettingWithCopyWarning: \n",
      "A value is trying to be set on a copy of a slice from a DataFrame.\n",
      "Try using .loc[row_indexer,col_indexer] = value instead\n",
      "\n",
      "See the caveats in the documentation: https://pandas.pydata.org/pandas-docs/stable/user_guide/indexing.html#returning-a-view-versus-a-copy\n",
      "  df_f['stage'] = df_f['stage'].apply(cancer_stages_bin)\n",
      "/var/folders/wy/y81s23xx1qdf2640d4mj4g500000gn/T/ipykernel_35320/1672577555.py:20: SettingWithCopyWarning: \n",
      "A value is trying to be set on a copy of a slice from a DataFrame\n",
      "\n",
      "See the caveats in the documentation: https://pandas.pydata.org/pandas-docs/stable/user_guide/indexing.html#returning-a-view-versus-a-copy\n",
      "  df_f.fillna(-1, inplace = True)\n"
     ]
    }
   ],
   "source": [
    "df_f = df_c[['stage', 'race', 'Obesity', 'first_degree_history','previous_cancer', \n",
    "            'smoker', 'tumor_diagnosis', 'rd_thrpy', 'h_thrpy','chm_thrpy', 'cry_thrpy', \n",
    "            'brch_thrpy', 'rad_rem', 'multi_thrpy', 'O01','O08', 'O09', 'O10', 'P01', \n",
    "            'P02', 'P03', 'S10', 'U05','survival_7_years', 'age_group', 'gleason_grade']]\n",
    "\n",
    "def cancer_stages_bin(stage):\n",
    "    if stage == \"I\":\n",
    "        return 1 \n",
    "    elif stage == \"IIB\":\n",
    "        return 2\n",
    "    elif stage == \"IIA\":\n",
    "        return 2\n",
    "    elif stage == \"III\":\n",
    "        return 3\n",
    "    elif stage == \"IV\":\n",
    "        return 4\n",
    "    \n",
    "df_f['stage'] = df_f['stage'].apply(cancer_stages_bin)\n",
    "\n",
    "df_f.fillna(-1, inplace = True)"
   ]
  },
  {
   "cell_type": "code",
   "execution_count": 157,
   "metadata": {},
   "outputs": [
    {
     "data": {
      "text/plain": [
       "stage                     int64\n",
       "race                    float64\n",
       "Obesity                 float64\n",
       "first_degree_history    float64\n",
       "previous_cancer         float64\n",
       "smoker                  float64\n",
       "tumor_diagnosis         float64\n",
       "rd_thrpy                  int64\n",
       "h_thrpy                   int64\n",
       "chm_thrpy                 int64\n",
       "cry_thrpy                 int64\n",
       "brch_thrpy                int64\n",
       "rad_rem                   int64\n",
       "multi_thrpy               int64\n",
       "O01                       int64\n",
       "O08                       int64\n",
       "O09                       int64\n",
       "O10                       int64\n",
       "P01                       int64\n",
       "P02                       int64\n",
       "P03                       int64\n",
       "S10                       int64\n",
       "U05                       int64\n",
       "survival_7_years          int64\n",
       "age_group               float64\n",
       "gleason_grade           float64\n",
       "dtype: object"
      ]
     },
     "execution_count": 157,
     "metadata": {},
     "output_type": "execute_result"
    }
   ],
   "source": [
    "df_f.dtypes"
   ]
  },
  {
   "cell_type": "code",
   "execution_count": 158,
   "metadata": {},
   "outputs": [],
   "source": [
    "df_f = df_f.drop('previous_cancer', axis = 1)"
   ]
  },
  {
   "cell_type": "code",
   "execution_count": 159,
   "metadata": {},
   "outputs": [],
   "source": [
    "X = df_f.drop('survival_7_years', axis=1) # features\n",
    "y = df_f['survival_7_years'] # target variable\n",
    "\n",
    "X_train, X_test, y_train, y_test = train_test_split(X, y, test_size=0.3, random_state=42)"
   ]
  },
  {
   "cell_type": "code",
   "execution_count": 160,
   "metadata": {},
   "outputs": [
    {
     "data": {
      "text/html": [
       "<style>#sk-container-id-3 {color: black;background-color: white;}#sk-container-id-3 pre{padding: 0;}#sk-container-id-3 div.sk-toggleable {background-color: white;}#sk-container-id-3 label.sk-toggleable__label {cursor: pointer;display: block;width: 100%;margin-bottom: 0;padding: 0.3em;box-sizing: border-box;text-align: center;}#sk-container-id-3 label.sk-toggleable__label-arrow:before {content: \"▸\";float: left;margin-right: 0.25em;color: #696969;}#sk-container-id-3 label.sk-toggleable__label-arrow:hover:before {color: black;}#sk-container-id-3 div.sk-estimator:hover label.sk-toggleable__label-arrow:before {color: black;}#sk-container-id-3 div.sk-toggleable__content {max-height: 0;max-width: 0;overflow: hidden;text-align: left;background-color: #f0f8ff;}#sk-container-id-3 div.sk-toggleable__content pre {margin: 0.2em;color: black;border-radius: 0.25em;background-color: #f0f8ff;}#sk-container-id-3 input.sk-toggleable__control:checked~div.sk-toggleable__content {max-height: 200px;max-width: 100%;overflow: auto;}#sk-container-id-3 input.sk-toggleable__control:checked~label.sk-toggleable__label-arrow:before {content: \"▾\";}#sk-container-id-3 div.sk-estimator input.sk-toggleable__control:checked~label.sk-toggleable__label {background-color: #d4ebff;}#sk-container-id-3 div.sk-label input.sk-toggleable__control:checked~label.sk-toggleable__label {background-color: #d4ebff;}#sk-container-id-3 input.sk-hidden--visually {border: 0;clip: rect(1px 1px 1px 1px);clip: rect(1px, 1px, 1px, 1px);height: 1px;margin: -1px;overflow: hidden;padding: 0;position: absolute;width: 1px;}#sk-container-id-3 div.sk-estimator {font-family: monospace;background-color: #f0f8ff;border: 1px dotted black;border-radius: 0.25em;box-sizing: border-box;margin-bottom: 0.5em;}#sk-container-id-3 div.sk-estimator:hover {background-color: #d4ebff;}#sk-container-id-3 div.sk-parallel-item::after {content: \"\";width: 100%;border-bottom: 1px solid gray;flex-grow: 1;}#sk-container-id-3 div.sk-label:hover label.sk-toggleable__label {background-color: #d4ebff;}#sk-container-id-3 div.sk-serial::before {content: \"\";position: absolute;border-left: 1px solid gray;box-sizing: border-box;top: 0;bottom: 0;left: 50%;z-index: 0;}#sk-container-id-3 div.sk-serial {display: flex;flex-direction: column;align-items: center;background-color: white;padding-right: 0.2em;padding-left: 0.2em;position: relative;}#sk-container-id-3 div.sk-item {position: relative;z-index: 1;}#sk-container-id-3 div.sk-parallel {display: flex;align-items: stretch;justify-content: center;background-color: white;position: relative;}#sk-container-id-3 div.sk-item::before, #sk-container-id-3 div.sk-parallel-item::before {content: \"\";position: absolute;border-left: 1px solid gray;box-sizing: border-box;top: 0;bottom: 0;left: 50%;z-index: -1;}#sk-container-id-3 div.sk-parallel-item {display: flex;flex-direction: column;z-index: 1;position: relative;background-color: white;}#sk-container-id-3 div.sk-parallel-item:first-child::after {align-self: flex-end;width: 50%;}#sk-container-id-3 div.sk-parallel-item:last-child::after {align-self: flex-start;width: 50%;}#sk-container-id-3 div.sk-parallel-item:only-child::after {width: 0;}#sk-container-id-3 div.sk-dashed-wrapped {border: 1px dashed gray;margin: 0 0.4em 0.5em 0.4em;box-sizing: border-box;padding-bottom: 0.4em;background-color: white;}#sk-container-id-3 div.sk-label label {font-family: monospace;font-weight: bold;display: inline-block;line-height: 1.2em;}#sk-container-id-3 div.sk-label-container {text-align: center;}#sk-container-id-3 div.sk-container {/* jupyter's `normalize.less` sets `[hidden] { display: none; }` but bootstrap.min.css set `[hidden] { display: none !important; }` so we also need the `!important` here to be able to override the default hidden behavior on the sphinx rendered scikit-learn.org. See: https://github.com/scikit-learn/scikit-learn/issues/21755 */display: inline-block !important;position: relative;}#sk-container-id-3 div.sk-text-repr-fallback {display: none;}</style><div id=\"sk-container-id-3\" class=\"sk-top-container\"><div class=\"sk-text-repr-fallback\"><pre>SVC(kernel=&#x27;linear&#x27;)</pre><b>In a Jupyter environment, please rerun this cell to show the HTML representation or trust the notebook. <br />On GitHub, the HTML representation is unable to render, please try loading this page with nbviewer.org.</b></div><div class=\"sk-container\" hidden><div class=\"sk-item\"><div class=\"sk-estimator sk-toggleable\"><input class=\"sk-toggleable__control sk-hidden--visually\" id=\"sk-estimator-id-3\" type=\"checkbox\" checked><label for=\"sk-estimator-id-3\" class=\"sk-toggleable__label sk-toggleable__label-arrow\">SVC</label><div class=\"sk-toggleable__content\"><pre>SVC(kernel=&#x27;linear&#x27;)</pre></div></div></div></div></div>"
      ],
      "text/plain": [
       "SVC(kernel='linear')"
      ]
     },
     "execution_count": 160,
     "metadata": {},
     "output_type": "execute_result"
    }
   ],
   "source": [
    "svm_model = SVC(kernel='linear')\n",
    "svm_model.fit(X_train, y_train)"
   ]
  },
  {
   "cell_type": "code",
   "execution_count": 161,
   "metadata": {},
   "outputs": [
    {
     "name": "stdout",
     "output_type": "stream",
     "text": [
      "Accuracy: 0.6321490467937608\n"
     ]
    }
   ],
   "source": [
    "y_pred = svm_model.predict(X_test)\n",
    "accuracy = accuracy_score(y_test, y_pred)\n",
    "print(f\"Accuracy: {accuracy}\")"
   ]
  },
  {
   "cell_type": "code",
   "execution_count": 162,
   "metadata": {},
   "outputs": [
    {
     "name": "stdout",
     "output_type": "stream",
     "text": [
      "stage    0.036 +/- 0.003\n",
      "gleason_grade 0.029 +/- 0.003\n",
      "rd_thrpy 0.012 +/- 0.002\n",
      "U05      0.008 +/- 0.002\n",
      "rad_rem  0.006 +/- 0.001\n",
      "S10      0.005 +/- 0.001\n",
      "tumor_diagnosis 0.003 +/- 0.001\n",
      "P01      0.002 +/- 0.001\n",
      "chm_thrpy 0.001 +/- 0.001\n",
      "h_thrpy  0.001 +/- 0.001\n",
      "P02      0.001 +/- 0.001\n",
      "P03      0.000 +/- 0.000\n",
      "O09      0.000 +/- 0.000\n",
      "O01      0.000 +/- 0.000\n",
      "O10      0.000 +/- 0.000\n",
      "O08      -0.000 +/- 0.000\n",
      "brch_thrpy -0.000 +/- 0.001\n",
      "age_group -0.000 +/- 0.000\n",
      "cry_thrpy -0.000 +/- 0.000\n",
      "multi_thrpy -0.001 +/- 0.001\n",
      "first_degree_history -0.001 +/- 0.001\n",
      "smoker   -0.001 +/- 0.001\n",
      "race     -0.001 +/- 0.001\n",
      "Obesity  -0.002 +/- 0.000\n"
     ]
    }
   ],
   "source": [
    "from sklearn.inspection import permutation_importance\n",
    "\n",
    "\n",
    "# compute permutation feature importance\n",
    "result = permutation_importance(svm_model, X_train, y_train, n_repeats=10, random_state=0)\n",
    "\n",
    "# print the feature importances\n",
    "for i in result.importances_mean.argsort()[::-1]:\n",
    "    print(f\"{X_train.columns[i]:<8} {result.importances_mean[i]:.3f} +/- {result.importances_std[i]:.3f}\")"
   ]
  },
  {
   "cell_type": "code",
   "execution_count": 44,
   "metadata": {},
   "outputs": [],
   "source": [
    "import joblib\n",
    "from sklearn.model_selection import KFold\n",
    "from sklearn.model_selection import GridSearchCV\n",
    "from sklearn.metrics import accuracy_score, roc_auc_score, auc, mean_squared_error, average_precision_score, confusion_matrix, f1_score, precision_score, precision_recall_curve, recall_score\n",
    "from sklearn.metrics import roc_curve, mean_absolute_error, r2_score, classification_report, ConfusionMatrixDisplay\n",
    "from sklearn.datasets import make_blobs\n",
    "from sklearn.model_selection import RepeatedStratifiedKFold\n",
    "from sklearn import svm\n",
    "from sklearn.svm import SVR, SVC\n",
    "from sklearn.ensemble import RandomForestClassifier\n",
    "from sklearn.tree import DecisionTreeClassifier, export_graphviz\n"
   ]
  },
  {
   "cell_type": "code",
   "execution_count": 45,
   "metadata": {},
   "outputs": [
    {
     "name": "stdout",
     "output_type": "stream",
     "text": [
      "Accuracy: 0.5870883882149047\n"
     ]
    }
   ],
   "source": [
    "rf = RandomForestClassifier(n_estimators=300, random_state=2)\n",
    "rf.fit(X_train, y_train)\n",
    "y_pred = rf.predict(X_test)\n",
    "accuracy = accuracy_score(y_test, y_pred)\n",
    "print(\"Accuracy:\", accuracy)\n"
   ]
  },
  {
   "cell_type": "code",
   "execution_count": 445,
   "metadata": {},
   "outputs": [
    {
     "ename": "KeyboardInterrupt",
     "evalue": "",
     "output_type": "error",
     "traceback": [
      "\u001b[0;31m---------------------------------------------------------------------------\u001b[0m",
      "\u001b[0;31mKeyboardInterrupt\u001b[0m                         Traceback (most recent call last)",
      "Cell \u001b[0;32mIn[445], line 11\u001b[0m\n\u001b[1;32m      9\u001b[0m cv \u001b[38;5;241m=\u001b[39m RepeatedStratifiedKFold(n_splits\u001b[38;5;241m=\u001b[39m\u001b[38;5;241m10\u001b[39m, n_repeats\u001b[38;5;241m=\u001b[39m\u001b[38;5;241m3\u001b[39m, random_state\u001b[38;5;241m=\u001b[39m\u001b[38;5;241m1\u001b[39m)\n\u001b[1;32m     10\u001b[0m grid_search \u001b[38;5;241m=\u001b[39m GridSearchCV(estimator\u001b[38;5;241m=\u001b[39mmodel, param_grid\u001b[38;5;241m=\u001b[39mgrid, n_jobs\u001b[38;5;241m=\u001b[39m\u001b[38;5;241m-\u001b[39m\u001b[38;5;241m1\u001b[39m, cv\u001b[38;5;241m=\u001b[39mcv, scoring\u001b[38;5;241m=\u001b[39m\u001b[38;5;124m'\u001b[39m\u001b[38;5;124maccuracy\u001b[39m\u001b[38;5;124m'\u001b[39m,error_score\u001b[38;5;241m=\u001b[39m\u001b[38;5;241m0\u001b[39m)\n\u001b[0;32m---> 11\u001b[0m grid_result \u001b[38;5;241m=\u001b[39m \u001b[43mgrid_search\u001b[49m\u001b[38;5;241;43m.\u001b[39;49m\u001b[43mfit\u001b[49m\u001b[43m(\u001b[49m\u001b[43mX_train\u001b[49m\u001b[43m,\u001b[49m\u001b[43m \u001b[49m\u001b[43my_train\u001b[49m\u001b[43m)\u001b[49m\n\u001b[1;32m     12\u001b[0m grid_result\n\u001b[1;32m     13\u001b[0m \u001b[38;5;66;03m# summarize results\u001b[39;00m\n",
      "File \u001b[0;32m~/Library/Python/3.9/lib/python/site-packages/sklearn/model_selection/_search.py:874\u001b[0m, in \u001b[0;36mBaseSearchCV.fit\u001b[0;34m(self, X, y, groups, **fit_params)\u001b[0m\n\u001b[1;32m    868\u001b[0m     results \u001b[38;5;241m=\u001b[39m \u001b[38;5;28mself\u001b[39m\u001b[38;5;241m.\u001b[39m_format_results(\n\u001b[1;32m    869\u001b[0m         all_candidate_params, n_splits, all_out, all_more_results\n\u001b[1;32m    870\u001b[0m     )\n\u001b[1;32m    872\u001b[0m     \u001b[38;5;28;01mreturn\u001b[39;00m results\n\u001b[0;32m--> 874\u001b[0m \u001b[38;5;28;43mself\u001b[39;49m\u001b[38;5;241;43m.\u001b[39;49m\u001b[43m_run_search\u001b[49m\u001b[43m(\u001b[49m\u001b[43mevaluate_candidates\u001b[49m\u001b[43m)\u001b[49m\n\u001b[1;32m    876\u001b[0m \u001b[38;5;66;03m# multimetric is determined here because in the case of a callable\u001b[39;00m\n\u001b[1;32m    877\u001b[0m \u001b[38;5;66;03m# self.scoring the return type is only known after calling\u001b[39;00m\n\u001b[1;32m    878\u001b[0m first_test_score \u001b[38;5;241m=\u001b[39m all_out[\u001b[38;5;241m0\u001b[39m][\u001b[38;5;124m\"\u001b[39m\u001b[38;5;124mtest_scores\u001b[39m\u001b[38;5;124m\"\u001b[39m]\n",
      "File \u001b[0;32m~/Library/Python/3.9/lib/python/site-packages/sklearn/model_selection/_search.py:1388\u001b[0m, in \u001b[0;36mGridSearchCV._run_search\u001b[0;34m(self, evaluate_candidates)\u001b[0m\n\u001b[1;32m   1386\u001b[0m \u001b[38;5;28;01mdef\u001b[39;00m \u001b[38;5;21m_run_search\u001b[39m(\u001b[38;5;28mself\u001b[39m, evaluate_candidates):\n\u001b[1;32m   1387\u001b[0m \u001b[38;5;250m    \u001b[39m\u001b[38;5;124;03m\"\"\"Search all candidates in param_grid\"\"\"\u001b[39;00m\n\u001b[0;32m-> 1388\u001b[0m     \u001b[43mevaluate_candidates\u001b[49m\u001b[43m(\u001b[49m\u001b[43mParameterGrid\u001b[49m\u001b[43m(\u001b[49m\u001b[38;5;28;43mself\u001b[39;49m\u001b[38;5;241;43m.\u001b[39;49m\u001b[43mparam_grid\u001b[49m\u001b[43m)\u001b[49m\u001b[43m)\u001b[49m\n",
      "File \u001b[0;32m~/Library/Python/3.9/lib/python/site-packages/sklearn/model_selection/_search.py:821\u001b[0m, in \u001b[0;36mBaseSearchCV.fit.<locals>.evaluate_candidates\u001b[0;34m(candidate_params, cv, more_results)\u001b[0m\n\u001b[1;32m    813\u001b[0m \u001b[38;5;28;01mif\u001b[39;00m \u001b[38;5;28mself\u001b[39m\u001b[38;5;241m.\u001b[39mverbose \u001b[38;5;241m>\u001b[39m \u001b[38;5;241m0\u001b[39m:\n\u001b[1;32m    814\u001b[0m     \u001b[38;5;28mprint\u001b[39m(\n\u001b[1;32m    815\u001b[0m         \u001b[38;5;124m\"\u001b[39m\u001b[38;5;124mFitting \u001b[39m\u001b[38;5;132;01m{0}\u001b[39;00m\u001b[38;5;124m folds for each of \u001b[39m\u001b[38;5;132;01m{1}\u001b[39;00m\u001b[38;5;124m candidates,\u001b[39m\u001b[38;5;124m\"\u001b[39m\n\u001b[1;32m    816\u001b[0m         \u001b[38;5;124m\"\u001b[39m\u001b[38;5;124m totalling \u001b[39m\u001b[38;5;132;01m{2}\u001b[39;00m\u001b[38;5;124m fits\u001b[39m\u001b[38;5;124m\"\u001b[39m\u001b[38;5;241m.\u001b[39mformat(\n\u001b[1;32m    817\u001b[0m             n_splits, n_candidates, n_candidates \u001b[38;5;241m*\u001b[39m n_splits\n\u001b[1;32m    818\u001b[0m         )\n\u001b[1;32m    819\u001b[0m     )\n\u001b[0;32m--> 821\u001b[0m out \u001b[38;5;241m=\u001b[39m \u001b[43mparallel\u001b[49m\u001b[43m(\u001b[49m\n\u001b[1;32m    822\u001b[0m \u001b[43m    \u001b[49m\u001b[43mdelayed\u001b[49m\u001b[43m(\u001b[49m\u001b[43m_fit_and_score\u001b[49m\u001b[43m)\u001b[49m\u001b[43m(\u001b[49m\n\u001b[1;32m    823\u001b[0m \u001b[43m        \u001b[49m\u001b[43mclone\u001b[49m\u001b[43m(\u001b[49m\u001b[43mbase_estimator\u001b[49m\u001b[43m)\u001b[49m\u001b[43m,\u001b[49m\n\u001b[1;32m    824\u001b[0m \u001b[43m        \u001b[49m\u001b[43mX\u001b[49m\u001b[43m,\u001b[49m\n\u001b[1;32m    825\u001b[0m \u001b[43m        \u001b[49m\u001b[43my\u001b[49m\u001b[43m,\u001b[49m\n\u001b[1;32m    826\u001b[0m \u001b[43m        \u001b[49m\u001b[43mtrain\u001b[49m\u001b[38;5;241;43m=\u001b[39;49m\u001b[43mtrain\u001b[49m\u001b[43m,\u001b[49m\n\u001b[1;32m    827\u001b[0m \u001b[43m        \u001b[49m\u001b[43mtest\u001b[49m\u001b[38;5;241;43m=\u001b[39;49m\u001b[43mtest\u001b[49m\u001b[43m,\u001b[49m\n\u001b[1;32m    828\u001b[0m \u001b[43m        \u001b[49m\u001b[43mparameters\u001b[49m\u001b[38;5;241;43m=\u001b[39;49m\u001b[43mparameters\u001b[49m\u001b[43m,\u001b[49m\n\u001b[1;32m    829\u001b[0m \u001b[43m        \u001b[49m\u001b[43msplit_progress\u001b[49m\u001b[38;5;241;43m=\u001b[39;49m\u001b[43m(\u001b[49m\u001b[43msplit_idx\u001b[49m\u001b[43m,\u001b[49m\u001b[43m \u001b[49m\u001b[43mn_splits\u001b[49m\u001b[43m)\u001b[49m\u001b[43m,\u001b[49m\n\u001b[1;32m    830\u001b[0m \u001b[43m        \u001b[49m\u001b[43mcandidate_progress\u001b[49m\u001b[38;5;241;43m=\u001b[39;49m\u001b[43m(\u001b[49m\u001b[43mcand_idx\u001b[49m\u001b[43m,\u001b[49m\u001b[43m \u001b[49m\u001b[43mn_candidates\u001b[49m\u001b[43m)\u001b[49m\u001b[43m,\u001b[49m\n\u001b[1;32m    831\u001b[0m \u001b[43m        \u001b[49m\u001b[38;5;241;43m*\u001b[39;49m\u001b[38;5;241;43m*\u001b[39;49m\u001b[43mfit_and_score_kwargs\u001b[49m\u001b[43m,\u001b[49m\n\u001b[1;32m    832\u001b[0m \u001b[43m    \u001b[49m\u001b[43m)\u001b[49m\n\u001b[1;32m    833\u001b[0m \u001b[43m    \u001b[49m\u001b[38;5;28;43;01mfor\u001b[39;49;00m\u001b[43m \u001b[49m\u001b[43m(\u001b[49m\u001b[43mcand_idx\u001b[49m\u001b[43m,\u001b[49m\u001b[43m \u001b[49m\u001b[43mparameters\u001b[49m\u001b[43m)\u001b[49m\u001b[43m,\u001b[49m\u001b[43m \u001b[49m\u001b[43m(\u001b[49m\u001b[43msplit_idx\u001b[49m\u001b[43m,\u001b[49m\u001b[43m \u001b[49m\u001b[43m(\u001b[49m\u001b[43mtrain\u001b[49m\u001b[43m,\u001b[49m\u001b[43m \u001b[49m\u001b[43mtest\u001b[49m\u001b[43m)\u001b[49m\u001b[43m)\u001b[49m\u001b[43m \u001b[49m\u001b[38;5;129;43;01min\u001b[39;49;00m\u001b[43m \u001b[49m\u001b[43mproduct\u001b[49m\u001b[43m(\u001b[49m\n\u001b[1;32m    834\u001b[0m \u001b[43m        \u001b[49m\u001b[38;5;28;43menumerate\u001b[39;49m\u001b[43m(\u001b[49m\u001b[43mcandidate_params\u001b[49m\u001b[43m)\u001b[49m\u001b[43m,\u001b[49m\u001b[43m \u001b[49m\u001b[38;5;28;43menumerate\u001b[39;49m\u001b[43m(\u001b[49m\u001b[43mcv\u001b[49m\u001b[38;5;241;43m.\u001b[39;49m\u001b[43msplit\u001b[49m\u001b[43m(\u001b[49m\u001b[43mX\u001b[49m\u001b[43m,\u001b[49m\u001b[43m \u001b[49m\u001b[43my\u001b[49m\u001b[43m,\u001b[49m\u001b[43m \u001b[49m\u001b[43mgroups\u001b[49m\u001b[43m)\u001b[49m\u001b[43m)\u001b[49m\n\u001b[1;32m    835\u001b[0m \u001b[43m    \u001b[49m\u001b[43m)\u001b[49m\n\u001b[1;32m    836\u001b[0m \u001b[43m\u001b[49m\u001b[43m)\u001b[49m\n\u001b[1;32m    838\u001b[0m \u001b[38;5;28;01mif\u001b[39;00m \u001b[38;5;28mlen\u001b[39m(out) \u001b[38;5;241m<\u001b[39m \u001b[38;5;241m1\u001b[39m:\n\u001b[1;32m    839\u001b[0m     \u001b[38;5;28;01mraise\u001b[39;00m \u001b[38;5;167;01mValueError\u001b[39;00m(\n\u001b[1;32m    840\u001b[0m         \u001b[38;5;124m\"\u001b[39m\u001b[38;5;124mNo fits were performed. \u001b[39m\u001b[38;5;124m\"\u001b[39m\n\u001b[1;32m    841\u001b[0m         \u001b[38;5;124m\"\u001b[39m\u001b[38;5;124mWas the CV iterator empty? \u001b[39m\u001b[38;5;124m\"\u001b[39m\n\u001b[1;32m    842\u001b[0m         \u001b[38;5;124m\"\u001b[39m\u001b[38;5;124mWere there no candidates?\u001b[39m\u001b[38;5;124m\"\u001b[39m\n\u001b[1;32m    843\u001b[0m     )\n",
      "File \u001b[0;32m~/Library/Python/3.9/lib/python/site-packages/sklearn/utils/parallel.py:63\u001b[0m, in \u001b[0;36mParallel.__call__\u001b[0;34m(self, iterable)\u001b[0m\n\u001b[1;32m     58\u001b[0m config \u001b[38;5;241m=\u001b[39m get_config()\n\u001b[1;32m     59\u001b[0m iterable_with_config \u001b[38;5;241m=\u001b[39m (\n\u001b[1;32m     60\u001b[0m     (_with_config(delayed_func, config), args, kwargs)\n\u001b[1;32m     61\u001b[0m     \u001b[38;5;28;01mfor\u001b[39;00m delayed_func, args, kwargs \u001b[38;5;129;01min\u001b[39;00m iterable\n\u001b[1;32m     62\u001b[0m )\n\u001b[0;32m---> 63\u001b[0m \u001b[38;5;28;01mreturn\u001b[39;00m \u001b[38;5;28;43msuper\u001b[39;49m\u001b[43m(\u001b[49m\u001b[43m)\u001b[49m\u001b[38;5;241;43m.\u001b[39;49m\u001b[38;5;21;43m__call__\u001b[39;49m\u001b[43m(\u001b[49m\u001b[43miterable_with_config\u001b[49m\u001b[43m)\u001b[49m\n",
      "File \u001b[0;32m~/Library/Python/3.9/lib/python/site-packages/joblib/parallel.py:1098\u001b[0m, in \u001b[0;36mParallel.__call__\u001b[0;34m(self, iterable)\u001b[0m\n\u001b[1;32m   1095\u001b[0m     \u001b[38;5;28mself\u001b[39m\u001b[38;5;241m.\u001b[39m_iterating \u001b[38;5;241m=\u001b[39m \u001b[38;5;28;01mFalse\u001b[39;00m\n\u001b[1;32m   1097\u001b[0m \u001b[38;5;28;01mwith\u001b[39;00m \u001b[38;5;28mself\u001b[39m\u001b[38;5;241m.\u001b[39m_backend\u001b[38;5;241m.\u001b[39mretrieval_context():\n\u001b[0;32m-> 1098\u001b[0m     \u001b[38;5;28;43mself\u001b[39;49m\u001b[38;5;241;43m.\u001b[39;49m\u001b[43mretrieve\u001b[49m\u001b[43m(\u001b[49m\u001b[43m)\u001b[49m\n\u001b[1;32m   1099\u001b[0m \u001b[38;5;66;03m# Make sure that we get a last message telling us we are done\u001b[39;00m\n\u001b[1;32m   1100\u001b[0m elapsed_time \u001b[38;5;241m=\u001b[39m time\u001b[38;5;241m.\u001b[39mtime() \u001b[38;5;241m-\u001b[39m \u001b[38;5;28mself\u001b[39m\u001b[38;5;241m.\u001b[39m_start_time\n",
      "File \u001b[0;32m~/Library/Python/3.9/lib/python/site-packages/joblib/parallel.py:975\u001b[0m, in \u001b[0;36mParallel.retrieve\u001b[0;34m(self)\u001b[0m\n\u001b[1;32m    973\u001b[0m \u001b[38;5;28;01mtry\u001b[39;00m:\n\u001b[1;32m    974\u001b[0m     \u001b[38;5;28;01mif\u001b[39;00m \u001b[38;5;28mgetattr\u001b[39m(\u001b[38;5;28mself\u001b[39m\u001b[38;5;241m.\u001b[39m_backend, \u001b[38;5;124m'\u001b[39m\u001b[38;5;124msupports_timeout\u001b[39m\u001b[38;5;124m'\u001b[39m, \u001b[38;5;28;01mFalse\u001b[39;00m):\n\u001b[0;32m--> 975\u001b[0m         \u001b[38;5;28mself\u001b[39m\u001b[38;5;241m.\u001b[39m_output\u001b[38;5;241m.\u001b[39mextend(\u001b[43mjob\u001b[49m\u001b[38;5;241;43m.\u001b[39;49m\u001b[43mget\u001b[49m\u001b[43m(\u001b[49m\u001b[43mtimeout\u001b[49m\u001b[38;5;241;43m=\u001b[39;49m\u001b[38;5;28;43mself\u001b[39;49m\u001b[38;5;241;43m.\u001b[39;49m\u001b[43mtimeout\u001b[49m\u001b[43m)\u001b[49m)\n\u001b[1;32m    976\u001b[0m     \u001b[38;5;28;01melse\u001b[39;00m:\n\u001b[1;32m    977\u001b[0m         \u001b[38;5;28mself\u001b[39m\u001b[38;5;241m.\u001b[39m_output\u001b[38;5;241m.\u001b[39mextend(job\u001b[38;5;241m.\u001b[39mget())\n",
      "File \u001b[0;32m~/Library/Python/3.9/lib/python/site-packages/joblib/_parallel_backends.py:567\u001b[0m, in \u001b[0;36mLokyBackend.wrap_future_result\u001b[0;34m(future, timeout)\u001b[0m\n\u001b[1;32m    564\u001b[0m \u001b[38;5;250m\u001b[39m\u001b[38;5;124;03m\"\"\"Wrapper for Future.result to implement the same behaviour as\u001b[39;00m\n\u001b[1;32m    565\u001b[0m \u001b[38;5;124;03mAsyncResults.get from multiprocessing.\"\"\"\u001b[39;00m\n\u001b[1;32m    566\u001b[0m \u001b[38;5;28;01mtry\u001b[39;00m:\n\u001b[0;32m--> 567\u001b[0m     \u001b[38;5;28;01mreturn\u001b[39;00m \u001b[43mfuture\u001b[49m\u001b[38;5;241;43m.\u001b[39;49m\u001b[43mresult\u001b[49m\u001b[43m(\u001b[49m\u001b[43mtimeout\u001b[49m\u001b[38;5;241;43m=\u001b[39;49m\u001b[43mtimeout\u001b[49m\u001b[43m)\u001b[49m\n\u001b[1;32m    568\u001b[0m \u001b[38;5;28;01mexcept\u001b[39;00m CfTimeoutError \u001b[38;5;28;01mas\u001b[39;00m e:\n\u001b[1;32m    569\u001b[0m     \u001b[38;5;28;01mraise\u001b[39;00m \u001b[38;5;167;01mTimeoutError\u001b[39;00m \u001b[38;5;28;01mfrom\u001b[39;00m \u001b[38;5;21;01me\u001b[39;00m\n",
      "File \u001b[0;32m/Library/Developer/CommandLineTools/Library/Frameworks/Python3.framework/Versions/3.9/lib/python3.9/concurrent/futures/_base.py:440\u001b[0m, in \u001b[0;36mFuture.result\u001b[0;34m(self, timeout)\u001b[0m\n\u001b[1;32m    437\u001b[0m \u001b[38;5;28;01melif\u001b[39;00m \u001b[38;5;28mself\u001b[39m\u001b[38;5;241m.\u001b[39m_state \u001b[38;5;241m==\u001b[39m FINISHED:\n\u001b[1;32m    438\u001b[0m     \u001b[38;5;28;01mreturn\u001b[39;00m \u001b[38;5;28mself\u001b[39m\u001b[38;5;241m.\u001b[39m__get_result()\n\u001b[0;32m--> 440\u001b[0m \u001b[38;5;28;43mself\u001b[39;49m\u001b[38;5;241;43m.\u001b[39;49m\u001b[43m_condition\u001b[49m\u001b[38;5;241;43m.\u001b[39;49m\u001b[43mwait\u001b[49m\u001b[43m(\u001b[49m\u001b[43mtimeout\u001b[49m\u001b[43m)\u001b[49m\n\u001b[1;32m    442\u001b[0m \u001b[38;5;28;01mif\u001b[39;00m \u001b[38;5;28mself\u001b[39m\u001b[38;5;241m.\u001b[39m_state \u001b[38;5;129;01min\u001b[39;00m [CANCELLED, CANCELLED_AND_NOTIFIED]:\n\u001b[1;32m    443\u001b[0m     \u001b[38;5;28;01mraise\u001b[39;00m CancelledError()\n",
      "File \u001b[0;32m/Library/Developer/CommandLineTools/Library/Frameworks/Python3.framework/Versions/3.9/lib/python3.9/threading.py:312\u001b[0m, in \u001b[0;36mCondition.wait\u001b[0;34m(self, timeout)\u001b[0m\n\u001b[1;32m    310\u001b[0m \u001b[38;5;28;01mtry\u001b[39;00m:    \u001b[38;5;66;03m# restore state no matter what (e.g., KeyboardInterrupt)\u001b[39;00m\n\u001b[1;32m    311\u001b[0m     \u001b[38;5;28;01mif\u001b[39;00m timeout \u001b[38;5;129;01mis\u001b[39;00m \u001b[38;5;28;01mNone\u001b[39;00m:\n\u001b[0;32m--> 312\u001b[0m         \u001b[43mwaiter\u001b[49m\u001b[38;5;241;43m.\u001b[39;49m\u001b[43macquire\u001b[49m\u001b[43m(\u001b[49m\u001b[43m)\u001b[49m\n\u001b[1;32m    313\u001b[0m         gotit \u001b[38;5;241m=\u001b[39m \u001b[38;5;28;01mTrue\u001b[39;00m\n\u001b[1;32m    314\u001b[0m     \u001b[38;5;28;01melse\u001b[39;00m:\n",
      "\u001b[0;31mKeyboardInterrupt\u001b[0m: "
     ]
    }
   ],
   "source": [
    "# # Tuning\n",
    "# model = SVC()\n",
    "# kernel = ['linear']\n",
    "# # kernel = ['linear', 'poly', 'rbf', 'sigmoid']\n",
    "# C = [0.01, 0.1, 1, 10]\n",
    "# gamma = [1, 0.1, 0.01]\n",
    "# # define grid search\n",
    "# grid = dict(kernel=kernel,C=C,gamma=gamma)\n",
    "# cv = RepeatedStratifiedKFold(n_splits=10, n_repeats=3, random_state=1)\n",
    "# grid_search = GridSearchCV(estimator=model, param_grid=grid, n_jobs=-1, cv=cv, scoring='accuracy',error_score=0)\n",
    "# grid_result = grid_search.fit(X_train, y_train)\n",
    "# grid_result\n",
    "# # summarize results\n",
    "# print(\"Best: %f using %s\" % (grid_result.best_score_, grid_result.best_params_))\n",
    "# means = grid_result.cv_results_['mean_test_score']\n",
    "# stds = grid_result.cv_results_['std_test_score']\n",
    "# params = grid_result.cv_results_['params']\n",
    "# for mean, stdev, param in zip(means, stds, params):\n",
    "#     print(\"%f (%f) with: %r\" % (mean, stdev, param))"
   ]
  },
  {
   "cell_type": "code",
   "execution_count": 46,
   "metadata": {},
   "outputs": [
    {
     "name": "stdout",
     "output_type": "stream",
     "text": [
      "Accuracy: 0.5576256499133448\n"
     ]
    }
   ],
   "source": [
    "dt = DecisionTreeClassifier(random_state=42)\n",
    "dt.fit(X_train, y_train)\n",
    "y_pred = dt.predict(X_test)\n",
    "accuracy = accuracy_score(y_test, y_pred)\n",
    "print(\"Accuracy:\", accuracy)\n"
   ]
  },
  {
   "cell_type": "code",
   "execution_count": 47,
   "metadata": {},
   "outputs": [],
   "source": [
    "export_graphviz(dt, out_file='tree.dot', feature_names=X.columns, class_names=['0', '1'], filled=True)\n"
   ]
  },
  {
   "cell_type": "markdown",
   "metadata": {},
   "source": [
    "Trying to predict on test data"
   ]
  },
  {
   "cell_type": "code",
   "execution_count": 48,
   "metadata": {},
   "outputs": [
    {
     "data": {
      "text/plain": [
       "Index(['id', 'diagnosis_date', 'gleason_score', 't_score', 'n_score',\n",
       "       'm_score', 'stage', 'age', 'race', 'height', 'weight', 'BMI', 'Obesity',\n",
       "       'family_history', 'first_degree_history', 'previous_cancer', 'smoker',\n",
       "       'side', 'tumor_diagnosis', 'rd_thrpy', 'h_thrpy', 'chm_thrpy',\n",
       "       'cry_thrpy', 'brch_thrpy', 'rad_rem', 'multi_thrpy', 'survival_1_year',\n",
       "       'O01', 'O08', 'O09', 'O10', 'O11', 'P01', 'P02', 'P03', 'S04', 'S07',\n",
       "       'S10', 'U01', 'U02', 'U03', 'U05', 'U06', 'survival_7_years'],\n",
       "      dtype='object')"
      ]
     },
     "execution_count": 48,
     "metadata": {},
     "output_type": "execute_result"
    }
   ],
   "source": [
    "test_df.columns"
   ]
  },
  {
   "cell_type": "code",
   "execution_count": 52,
   "metadata": {},
   "outputs": [],
   "source": [
    "df_score = pd.DataFrame()\n",
    "df_score = test_df[['gleason_score','stage', 'age', 'race','Obesity',\n",
    "                    'first_degree_history', 'smoker', 'tumor_diagnosis', \n",
    "                    'rd_thrpy', 'h_thrpy', 'chm_thrpy','cry_thrpy', 'brch_thrpy', \n",
    "                    'rad_rem', 'multi_thrpy', 'O01', 'O08', 'O09', 'O10', 'O11', \n",
    "                    'P01', 'P02', 'P03', 'S04', 'S07','S10', 'U01', 'U02', 'U03', \n",
    "                    'U05', 'U06']]"
   ]
  },
  {
   "cell_type": "code",
   "execution_count": 53,
   "metadata": {},
   "outputs": [
    {
     "name": "stderr",
     "output_type": "stream",
     "text": [
      "/var/folders/wy/y81s23xx1qdf2640d4mj4g500000gn/T/ipykernel_35320/3695784604.py:1: SettingWithCopyWarning: \n",
      "A value is trying to be set on a copy of a slice from a DataFrame.\n",
      "Try using .loc[row_indexer,col_indexer] = value instead\n",
      "\n",
      "See the caveats in the documentation: https://pandas.pydata.org/pandas-docs/stable/user_guide/indexing.html#returning-a-view-versus-a-copy\n",
      "  df_score['age_group'] = df_score['age'].apply(replace_age)\n",
      "/var/folders/wy/y81s23xx1qdf2640d4mj4g500000gn/T/ipykernel_35320/3695784604.py:2: SettingWithCopyWarning: \n",
      "A value is trying to be set on a copy of a slice from a DataFrame.\n",
      "Try using .loc[row_indexer,col_indexer] = value instead\n",
      "\n",
      "See the caveats in the documentation: https://pandas.pydata.org/pandas-docs/stable/user_guide/indexing.html#returning-a-view-versus-a-copy\n",
      "  df_score['gleason_grade'] = df_score['gleason_score'].apply(replace_gleason_score)\n",
      "/var/folders/wy/y81s23xx1qdf2640d4mj4g500000gn/T/ipykernel_35320/3695784604.py:3: SettingWithCopyWarning: \n",
      "A value is trying to be set on a copy of a slice from a DataFrame.\n",
      "Try using .loc[row_indexer,col_indexer] = value instead\n",
      "\n",
      "See the caveats in the documentation: https://pandas.pydata.org/pandas-docs/stable/user_guide/indexing.html#returning-a-view-versus-a-copy\n",
      "  df_score['first_degree_history'] = df_score['first_degree_history'].apply(replace_first_degree_history)\n"
     ]
    }
   ],
   "source": [
    "df_score['age_group'] = df_score['age'].apply(replace_age)\n",
    "df_score['gleason_grade'] = df_score['gleason_score'].apply(replace_gleason_score)\n",
    "df_score['first_degree_history'] = df_score['first_degree_history'].apply(replace_first_degree_history)"
   ]
  },
  {
   "cell_type": "code",
   "execution_count": 54,
   "metadata": {},
   "outputs": [
    {
     "data": {
      "text/html": [
       "<div>\n",
       "<style scoped>\n",
       "    .dataframe tbody tr th:only-of-type {\n",
       "        vertical-align: middle;\n",
       "    }\n",
       "\n",
       "    .dataframe tbody tr th {\n",
       "        vertical-align: top;\n",
       "    }\n",
       "\n",
       "    .dataframe thead th {\n",
       "        text-align: right;\n",
       "    }\n",
       "</style>\n",
       "<table border=\"1\" class=\"dataframe\">\n",
       "  <thead>\n",
       "    <tr style=\"text-align: right;\">\n",
       "      <th></th>\n",
       "      <th>gleason_score</th>\n",
       "      <th>stage</th>\n",
       "      <th>age</th>\n",
       "      <th>race</th>\n",
       "      <th>Obesity</th>\n",
       "      <th>first_degree_history</th>\n",
       "      <th>smoker</th>\n",
       "      <th>tumor_diagnosis</th>\n",
       "      <th>rd_thrpy</th>\n",
       "      <th>h_thrpy</th>\n",
       "      <th>...</th>\n",
       "      <th>S04</th>\n",
       "      <th>S07</th>\n",
       "      <th>S10</th>\n",
       "      <th>U01</th>\n",
       "      <th>U02</th>\n",
       "      <th>U03</th>\n",
       "      <th>U05</th>\n",
       "      <th>U06</th>\n",
       "      <th>age_group</th>\n",
       "      <th>gleason_grade</th>\n",
       "    </tr>\n",
       "  </thead>\n",
       "  <tbody>\n",
       "    <tr>\n",
       "      <th>0</th>\n",
       "      <td>8.0</td>\n",
       "      <td>III</td>\n",
       "      <td>79.0</td>\n",
       "      <td>4.0</td>\n",
       "      <td>0.0</td>\n",
       "      <td>NaN</td>\n",
       "      <td>NaN</td>\n",
       "      <td>44.0</td>\n",
       "      <td>1</td>\n",
       "      <td>1</td>\n",
       "      <td>...</td>\n",
       "      <td>0</td>\n",
       "      <td>0</td>\n",
       "      <td>1</td>\n",
       "      <td>1</td>\n",
       "      <td>1</td>\n",
       "      <td>0</td>\n",
       "      <td>0</td>\n",
       "      <td>0</td>\n",
       "      <td>4.0</td>\n",
       "      <td>3.0</td>\n",
       "    </tr>\n",
       "    <tr>\n",
       "      <th>1</th>\n",
       "      <td>10.0</td>\n",
       "      <td>IIB</td>\n",
       "      <td>84.0</td>\n",
       "      <td>2.0</td>\n",
       "      <td>0.0</td>\n",
       "      <td>0.0</td>\n",
       "      <td>0.0</td>\n",
       "      <td>93.0</td>\n",
       "      <td>1</td>\n",
       "      <td>0</td>\n",
       "      <td>...</td>\n",
       "      <td>0</td>\n",
       "      <td>1</td>\n",
       "      <td>0</td>\n",
       "      <td>1</td>\n",
       "      <td>1</td>\n",
       "      <td>0</td>\n",
       "      <td>0</td>\n",
       "      <td>0</td>\n",
       "      <td>4.0</td>\n",
       "      <td>4.0</td>\n",
       "    </tr>\n",
       "    <tr>\n",
       "      <th>2</th>\n",
       "      <td>6.0</td>\n",
       "      <td>IV</td>\n",
       "      <td>NaN</td>\n",
       "      <td>4.0</td>\n",
       "      <td>0.0</td>\n",
       "      <td>0.0</td>\n",
       "      <td>0.0</td>\n",
       "      <td>35.0</td>\n",
       "      <td>0</td>\n",
       "      <td>0</td>\n",
       "      <td>...</td>\n",
       "      <td>0</td>\n",
       "      <td>1</td>\n",
       "      <td>0</td>\n",
       "      <td>0</td>\n",
       "      <td>0</td>\n",
       "      <td>0</td>\n",
       "      <td>0</td>\n",
       "      <td>1</td>\n",
       "      <td>NaN</td>\n",
       "      <td>1.0</td>\n",
       "    </tr>\n",
       "    <tr>\n",
       "      <th>3</th>\n",
       "      <td>7.0</td>\n",
       "      <td>IV</td>\n",
       "      <td>73.0</td>\n",
       "      <td>4.0</td>\n",
       "      <td>0.0</td>\n",
       "      <td>0.0</td>\n",
       "      <td>0.0</td>\n",
       "      <td>40.0</td>\n",
       "      <td>1</td>\n",
       "      <td>0</td>\n",
       "      <td>...</td>\n",
       "      <td>0</td>\n",
       "      <td>1</td>\n",
       "      <td>0</td>\n",
       "      <td>0</td>\n",
       "      <td>0</td>\n",
       "      <td>0</td>\n",
       "      <td>0</td>\n",
       "      <td>0</td>\n",
       "      <td>3.0</td>\n",
       "      <td>2.0</td>\n",
       "    </tr>\n",
       "    <tr>\n",
       "      <th>4</th>\n",
       "      <td>6.0</td>\n",
       "      <td>IIA</td>\n",
       "      <td>81.0</td>\n",
       "      <td>1.0</td>\n",
       "      <td>NaN</td>\n",
       "      <td>0.0</td>\n",
       "      <td>0.0</td>\n",
       "      <td>53.0</td>\n",
       "      <td>0</td>\n",
       "      <td>0</td>\n",
       "      <td>...</td>\n",
       "      <td>0</td>\n",
       "      <td>0</td>\n",
       "      <td>0</td>\n",
       "      <td>1</td>\n",
       "      <td>0</td>\n",
       "      <td>1</td>\n",
       "      <td>0</td>\n",
       "      <td>1</td>\n",
       "      <td>4.0</td>\n",
       "      <td>1.0</td>\n",
       "    </tr>\n",
       "  </tbody>\n",
       "</table>\n",
       "<p>5 rows × 33 columns</p>\n",
       "</div>"
      ],
      "text/plain": [
       "   gleason_score stage   age  race  Obesity  first_degree_history  smoker  \\\n",
       "0            8.0   III  79.0   4.0      0.0                   NaN     NaN   \n",
       "1           10.0   IIB  84.0   2.0      0.0                   0.0     0.0   \n",
       "2            6.0    IV   NaN   4.0      0.0                   0.0     0.0   \n",
       "3            7.0    IV  73.0   4.0      0.0                   0.0     0.0   \n",
       "4            6.0   IIA  81.0   1.0      NaN                   0.0     0.0   \n",
       "\n",
       "   tumor_diagnosis  rd_thrpy  h_thrpy  ...  S04  S07  S10  U01  U02  U03  U05  \\\n",
       "0             44.0         1        1  ...    0    0    1    1    1    0    0   \n",
       "1             93.0         1        0  ...    0    1    0    1    1    0    0   \n",
       "2             35.0         0        0  ...    0    1    0    0    0    0    0   \n",
       "3             40.0         1        0  ...    0    1    0    0    0    0    0   \n",
       "4             53.0         0        0  ...    0    0    0    1    0    1    0   \n",
       "\n",
       "   U06  age_group  gleason_grade  \n",
       "0    0        4.0            3.0  \n",
       "1    0        4.0            4.0  \n",
       "2    1        NaN            1.0  \n",
       "3    0        3.0            2.0  \n",
       "4    1        4.0            1.0  \n",
       "\n",
       "[5 rows x 33 columns]"
      ]
     },
     "execution_count": 54,
     "metadata": {},
     "output_type": "execute_result"
    }
   ],
   "source": [
    "df_score.head(5)"
   ]
  },
  {
   "cell_type": "code",
   "execution_count": 55,
   "metadata": {},
   "outputs": [
    {
     "name": "stderr",
     "output_type": "stream",
     "text": [
      "/var/folders/wy/y81s23xx1qdf2640d4mj4g500000gn/T/ipykernel_35320/3886208042.py:1: SettingWithCopyWarning: \n",
      "A value is trying to be set on a copy of a slice from a DataFrame.\n",
      "Try using .loc[row_indexer,col_indexer] = value instead\n",
      "\n",
      "See the caveats in the documentation: https://pandas.pydata.org/pandas-docs/stable/user_guide/indexing.html#returning-a-view-versus-a-copy\n",
      "  df_score['stage'] = df_score['stage'].apply(cancer_stages_bin)\n"
     ]
    }
   ],
   "source": [
    "df_score['stage'] = df_score['stage'].apply(cancer_stages_bin)"
   ]
  },
  {
   "cell_type": "code",
   "execution_count": 56,
   "metadata": {},
   "outputs": [
    {
     "data": {
      "text/plain": [
       "gleason_score           float64\n",
       "stage                     int64\n",
       "age                     float64\n",
       "race                    float64\n",
       "Obesity                 float64\n",
       "first_degree_history    float64\n",
       "smoker                  float64\n",
       "tumor_diagnosis         float64\n",
       "rd_thrpy                  int64\n",
       "h_thrpy                   int64\n",
       "chm_thrpy                 int64\n",
       "cry_thrpy                 int64\n",
       "brch_thrpy                int64\n",
       "rad_rem                   int64\n",
       "multi_thrpy               int64\n",
       "O01                       int64\n",
       "O08                       int64\n",
       "O09                       int64\n",
       "O10                       int64\n",
       "O11                       int64\n",
       "P01                       int64\n",
       "P02                       int64\n",
       "P03                       int64\n",
       "S04                       int64\n",
       "S07                       int64\n",
       "S10                       int64\n",
       "U01                       int64\n",
       "U02                       int64\n",
       "U03                       int64\n",
       "U05                       int64\n",
       "U06                       int64\n",
       "age_group               float64\n",
       "gleason_grade           float64\n",
       "dtype: object"
      ]
     },
     "execution_count": 56,
     "metadata": {},
     "output_type": "execute_result"
    }
   ],
   "source": [
    "df_score.dtypes"
   ]
  },
  {
   "cell_type": "code",
   "execution_count": 57,
   "metadata": {},
   "outputs": [],
   "source": [
    "df_score = df_score.drop(['gleason_score','age'], axis = 1)"
   ]
  },
  {
   "cell_type": "code",
   "execution_count": 65,
   "metadata": {},
   "outputs": [
    {
     "data": {
      "text/plain": [
       "Index(['stage', 'race', 'Obesity', 'first_degree_history', 'smoker',\n",
       "       'tumor_diagnosis', 'rd_thrpy', 'h_thrpy', 'chm_thrpy', 'cry_thrpy',\n",
       "       'brch_thrpy', 'rad_rem', 'multi_thrpy', 'O01', 'O08', 'O09', 'O10',\n",
       "       'P01', 'P02', 'P03', 'S10', 'U05', 'survival_7_years', 'age_group',\n",
       "       'gleason_grade'],\n",
       "      dtype='object')"
      ]
     },
     "execution_count": 65,
     "metadata": {},
     "output_type": "execute_result"
    }
   ],
   "source": [
    "df_f.columns"
   ]
  },
  {
   "cell_type": "code",
   "execution_count": 66,
   "metadata": {},
   "outputs": [
    {
     "data": {
      "text/plain": [
       "Index(['stage', 'race', 'Obesity', 'first_degree_history', 'smoker',\n",
       "       'tumor_diagnosis', 'rd_thrpy', 'h_thrpy', 'chm_thrpy', 'cry_thrpy',\n",
       "       'brch_thrpy', 'rad_rem', 'multi_thrpy', 'O01', 'O08', 'O09', 'O10',\n",
       "       'O11', 'P01', 'P02', 'P03', 'S04', 'S07', 'S10', 'U01', 'U02', 'U03',\n",
       "       'U05', 'U06', 'age_group', 'gleason_grade'],\n",
       "      dtype='object')"
      ]
     },
     "execution_count": 66,
     "metadata": {},
     "output_type": "execute_result"
    }
   ],
   "source": [
    "df_score.columns"
   ]
  },
  {
   "cell_type": "code",
   "execution_count": 70,
   "metadata": {},
   "outputs": [
    {
     "ename": "KeyError",
     "evalue": "\"['O11', 'S04', 'S07', 'U01', 'U02', 'U03', 'U06'] not found in axis\"",
     "output_type": "error",
     "traceback": [
      "\u001b[0;31m---------------------------------------------------------------------------\u001b[0m",
      "\u001b[0;31mKeyError\u001b[0m                                  Traceback (most recent call last)",
      "Cell \u001b[0;32mIn[70], line 1\u001b[0m\n\u001b[0;32m----> 1\u001b[0m df_score \u001b[38;5;241m=\u001b[39m \u001b[43mdf_score\u001b[49m\u001b[38;5;241;43m.\u001b[39;49m\u001b[43mdrop\u001b[49m\u001b[43m(\u001b[49m\u001b[43m[\u001b[49m\u001b[38;5;124;43m'\u001b[39;49m\u001b[38;5;124;43mO11\u001b[39;49m\u001b[38;5;124;43m'\u001b[39;49m\u001b[43m,\u001b[49m\u001b[38;5;124;43m'\u001b[39;49m\u001b[38;5;124;43mS04\u001b[39;49m\u001b[38;5;124;43m'\u001b[39;49m\u001b[43m,\u001b[49m\u001b[38;5;124;43m'\u001b[39;49m\u001b[38;5;124;43mS07\u001b[39;49m\u001b[38;5;124;43m'\u001b[39;49m\u001b[43m,\u001b[49m\u001b[38;5;124;43m'\u001b[39;49m\u001b[38;5;124;43mU01\u001b[39;49m\u001b[38;5;124;43m'\u001b[39;49m\u001b[43m,\u001b[49m\u001b[38;5;124;43m'\u001b[39;49m\u001b[38;5;124;43mU02\u001b[39;49m\u001b[38;5;124;43m'\u001b[39;49m\u001b[43m,\u001b[49m\u001b[38;5;124;43m'\u001b[39;49m\u001b[38;5;124;43mU03\u001b[39;49m\u001b[38;5;124;43m'\u001b[39;49m\u001b[43m,\u001b[49m\u001b[38;5;124;43m'\u001b[39;49m\u001b[38;5;124;43mU06\u001b[39;49m\u001b[38;5;124;43m'\u001b[39;49m\u001b[43m]\u001b[49m\u001b[43m,\u001b[49m\u001b[43m \u001b[49m\u001b[43maxis\u001b[49m\u001b[43m \u001b[49m\u001b[38;5;241;43m=\u001b[39;49m\u001b[43m \u001b[49m\u001b[38;5;241;43m1\u001b[39;49m\u001b[43m)\u001b[49m\n",
      "File \u001b[0;32m~/Library/Python/3.9/lib/python/site-packages/pandas/util/_decorators.py:331\u001b[0m, in \u001b[0;36mdeprecate_nonkeyword_arguments.<locals>.decorate.<locals>.wrapper\u001b[0;34m(*args, **kwargs)\u001b[0m\n\u001b[1;32m    325\u001b[0m \u001b[38;5;28;01mif\u001b[39;00m \u001b[38;5;28mlen\u001b[39m(args) \u001b[38;5;241m>\u001b[39m num_allow_args:\n\u001b[1;32m    326\u001b[0m     warnings\u001b[38;5;241m.\u001b[39mwarn(\n\u001b[1;32m    327\u001b[0m         msg\u001b[38;5;241m.\u001b[39mformat(arguments\u001b[38;5;241m=\u001b[39m_format_argument_list(allow_args)),\n\u001b[1;32m    328\u001b[0m         \u001b[38;5;167;01mFutureWarning\u001b[39;00m,\n\u001b[1;32m    329\u001b[0m         stacklevel\u001b[38;5;241m=\u001b[39mfind_stack_level(),\n\u001b[1;32m    330\u001b[0m     )\n\u001b[0;32m--> 331\u001b[0m \u001b[38;5;28;01mreturn\u001b[39;00m \u001b[43mfunc\u001b[49m\u001b[43m(\u001b[49m\u001b[38;5;241;43m*\u001b[39;49m\u001b[43margs\u001b[49m\u001b[43m,\u001b[49m\u001b[43m \u001b[49m\u001b[38;5;241;43m*\u001b[39;49m\u001b[38;5;241;43m*\u001b[39;49m\u001b[43mkwargs\u001b[49m\u001b[43m)\u001b[49m\n",
      "File \u001b[0;32m~/Library/Python/3.9/lib/python/site-packages/pandas/core/frame.py:5399\u001b[0m, in \u001b[0;36mDataFrame.drop\u001b[0;34m(self, labels, axis, index, columns, level, inplace, errors)\u001b[0m\n\u001b[1;32m   5251\u001b[0m \u001b[38;5;129m@deprecate_nonkeyword_arguments\u001b[39m(version\u001b[38;5;241m=\u001b[39m\u001b[38;5;28;01mNone\u001b[39;00m, allowed_args\u001b[38;5;241m=\u001b[39m[\u001b[38;5;124m\"\u001b[39m\u001b[38;5;124mself\u001b[39m\u001b[38;5;124m\"\u001b[39m, \u001b[38;5;124m\"\u001b[39m\u001b[38;5;124mlabels\u001b[39m\u001b[38;5;124m\"\u001b[39m])\n\u001b[1;32m   5252\u001b[0m \u001b[38;5;28;01mdef\u001b[39;00m \u001b[38;5;21mdrop\u001b[39m(  \u001b[38;5;66;03m# type: ignore[override]\u001b[39;00m\n\u001b[1;32m   5253\u001b[0m     \u001b[38;5;28mself\u001b[39m,\n\u001b[0;32m   (...)\u001b[0m\n\u001b[1;32m   5260\u001b[0m     errors: IgnoreRaise \u001b[38;5;241m=\u001b[39m \u001b[38;5;124m\"\u001b[39m\u001b[38;5;124mraise\u001b[39m\u001b[38;5;124m\"\u001b[39m,\n\u001b[1;32m   5261\u001b[0m ) \u001b[38;5;241m-\u001b[39m\u001b[38;5;241m>\u001b[39m DataFrame \u001b[38;5;241m|\u001b[39m \u001b[38;5;28;01mNone\u001b[39;00m:\n\u001b[1;32m   5262\u001b[0m \u001b[38;5;250m    \u001b[39m\u001b[38;5;124;03m\"\"\"\u001b[39;00m\n\u001b[1;32m   5263\u001b[0m \u001b[38;5;124;03m    Drop specified labels from rows or columns.\u001b[39;00m\n\u001b[1;32m   5264\u001b[0m \n\u001b[0;32m   (...)\u001b[0m\n\u001b[1;32m   5397\u001b[0m \u001b[38;5;124;03m            weight  1.0     0.8\u001b[39;00m\n\u001b[1;32m   5398\u001b[0m \u001b[38;5;124;03m    \"\"\"\u001b[39;00m\n\u001b[0;32m-> 5399\u001b[0m     \u001b[38;5;28;01mreturn\u001b[39;00m \u001b[38;5;28;43msuper\u001b[39;49m\u001b[43m(\u001b[49m\u001b[43m)\u001b[49m\u001b[38;5;241;43m.\u001b[39;49m\u001b[43mdrop\u001b[49m\u001b[43m(\u001b[49m\n\u001b[1;32m   5400\u001b[0m \u001b[43m        \u001b[49m\u001b[43mlabels\u001b[49m\u001b[38;5;241;43m=\u001b[39;49m\u001b[43mlabels\u001b[49m\u001b[43m,\u001b[49m\n\u001b[1;32m   5401\u001b[0m \u001b[43m        \u001b[49m\u001b[43maxis\u001b[49m\u001b[38;5;241;43m=\u001b[39;49m\u001b[43maxis\u001b[49m\u001b[43m,\u001b[49m\n\u001b[1;32m   5402\u001b[0m \u001b[43m        \u001b[49m\u001b[43mindex\u001b[49m\u001b[38;5;241;43m=\u001b[39;49m\u001b[43mindex\u001b[49m\u001b[43m,\u001b[49m\n\u001b[1;32m   5403\u001b[0m \u001b[43m        \u001b[49m\u001b[43mcolumns\u001b[49m\u001b[38;5;241;43m=\u001b[39;49m\u001b[43mcolumns\u001b[49m\u001b[43m,\u001b[49m\n\u001b[1;32m   5404\u001b[0m \u001b[43m        \u001b[49m\u001b[43mlevel\u001b[49m\u001b[38;5;241;43m=\u001b[39;49m\u001b[43mlevel\u001b[49m\u001b[43m,\u001b[49m\n\u001b[1;32m   5405\u001b[0m \u001b[43m        \u001b[49m\u001b[43minplace\u001b[49m\u001b[38;5;241;43m=\u001b[39;49m\u001b[43minplace\u001b[49m\u001b[43m,\u001b[49m\n\u001b[1;32m   5406\u001b[0m \u001b[43m        \u001b[49m\u001b[43merrors\u001b[49m\u001b[38;5;241;43m=\u001b[39;49m\u001b[43merrors\u001b[49m\u001b[43m,\u001b[49m\n\u001b[1;32m   5407\u001b[0m \u001b[43m    \u001b[49m\u001b[43m)\u001b[49m\n",
      "File \u001b[0;32m~/Library/Python/3.9/lib/python/site-packages/pandas/util/_decorators.py:331\u001b[0m, in \u001b[0;36mdeprecate_nonkeyword_arguments.<locals>.decorate.<locals>.wrapper\u001b[0;34m(*args, **kwargs)\u001b[0m\n\u001b[1;32m    325\u001b[0m \u001b[38;5;28;01mif\u001b[39;00m \u001b[38;5;28mlen\u001b[39m(args) \u001b[38;5;241m>\u001b[39m num_allow_args:\n\u001b[1;32m    326\u001b[0m     warnings\u001b[38;5;241m.\u001b[39mwarn(\n\u001b[1;32m    327\u001b[0m         msg\u001b[38;5;241m.\u001b[39mformat(arguments\u001b[38;5;241m=\u001b[39m_format_argument_list(allow_args)),\n\u001b[1;32m    328\u001b[0m         \u001b[38;5;167;01mFutureWarning\u001b[39;00m,\n\u001b[1;32m    329\u001b[0m         stacklevel\u001b[38;5;241m=\u001b[39mfind_stack_level(),\n\u001b[1;32m    330\u001b[0m     )\n\u001b[0;32m--> 331\u001b[0m \u001b[38;5;28;01mreturn\u001b[39;00m \u001b[43mfunc\u001b[49m\u001b[43m(\u001b[49m\u001b[38;5;241;43m*\u001b[39;49m\u001b[43margs\u001b[49m\u001b[43m,\u001b[49m\u001b[43m \u001b[49m\u001b[38;5;241;43m*\u001b[39;49m\u001b[38;5;241;43m*\u001b[39;49m\u001b[43mkwargs\u001b[49m\u001b[43m)\u001b[49m\n",
      "File \u001b[0;32m~/Library/Python/3.9/lib/python/site-packages/pandas/core/generic.py:4505\u001b[0m, in \u001b[0;36mNDFrame.drop\u001b[0;34m(self, labels, axis, index, columns, level, inplace, errors)\u001b[0m\n\u001b[1;32m   4503\u001b[0m \u001b[38;5;28;01mfor\u001b[39;00m axis, labels \u001b[38;5;129;01min\u001b[39;00m axes\u001b[38;5;241m.\u001b[39mitems():\n\u001b[1;32m   4504\u001b[0m     \u001b[38;5;28;01mif\u001b[39;00m labels \u001b[38;5;129;01mis\u001b[39;00m \u001b[38;5;129;01mnot\u001b[39;00m \u001b[38;5;28;01mNone\u001b[39;00m:\n\u001b[0;32m-> 4505\u001b[0m         obj \u001b[38;5;241m=\u001b[39m \u001b[43mobj\u001b[49m\u001b[38;5;241;43m.\u001b[39;49m\u001b[43m_drop_axis\u001b[49m\u001b[43m(\u001b[49m\u001b[43mlabels\u001b[49m\u001b[43m,\u001b[49m\u001b[43m \u001b[49m\u001b[43maxis\u001b[49m\u001b[43m,\u001b[49m\u001b[43m \u001b[49m\u001b[43mlevel\u001b[49m\u001b[38;5;241;43m=\u001b[39;49m\u001b[43mlevel\u001b[49m\u001b[43m,\u001b[49m\u001b[43m \u001b[49m\u001b[43merrors\u001b[49m\u001b[38;5;241;43m=\u001b[39;49m\u001b[43merrors\u001b[49m\u001b[43m)\u001b[49m\n\u001b[1;32m   4507\u001b[0m \u001b[38;5;28;01mif\u001b[39;00m inplace:\n\u001b[1;32m   4508\u001b[0m     \u001b[38;5;28mself\u001b[39m\u001b[38;5;241m.\u001b[39m_update_inplace(obj)\n",
      "File \u001b[0;32m~/Library/Python/3.9/lib/python/site-packages/pandas/core/generic.py:4546\u001b[0m, in \u001b[0;36mNDFrame._drop_axis\u001b[0;34m(self, labels, axis, level, errors, only_slice)\u001b[0m\n\u001b[1;32m   4544\u001b[0m         new_axis \u001b[38;5;241m=\u001b[39m axis\u001b[38;5;241m.\u001b[39mdrop(labels, level\u001b[38;5;241m=\u001b[39mlevel, errors\u001b[38;5;241m=\u001b[39merrors)\n\u001b[1;32m   4545\u001b[0m     \u001b[38;5;28;01melse\u001b[39;00m:\n\u001b[0;32m-> 4546\u001b[0m         new_axis \u001b[38;5;241m=\u001b[39m \u001b[43maxis\u001b[49m\u001b[38;5;241;43m.\u001b[39;49m\u001b[43mdrop\u001b[49m\u001b[43m(\u001b[49m\u001b[43mlabels\u001b[49m\u001b[43m,\u001b[49m\u001b[43m \u001b[49m\u001b[43merrors\u001b[49m\u001b[38;5;241;43m=\u001b[39;49m\u001b[43merrors\u001b[49m\u001b[43m)\u001b[49m\n\u001b[1;32m   4547\u001b[0m     indexer \u001b[38;5;241m=\u001b[39m axis\u001b[38;5;241m.\u001b[39mget_indexer(new_axis)\n\u001b[1;32m   4549\u001b[0m \u001b[38;5;66;03m# Case for non-unique axis\u001b[39;00m\n\u001b[1;32m   4550\u001b[0m \u001b[38;5;28;01melse\u001b[39;00m:\n",
      "File \u001b[0;32m~/Library/Python/3.9/lib/python/site-packages/pandas/core/indexes/base.py:6934\u001b[0m, in \u001b[0;36mIndex.drop\u001b[0;34m(self, labels, errors)\u001b[0m\n\u001b[1;32m   6932\u001b[0m \u001b[38;5;28;01mif\u001b[39;00m mask\u001b[38;5;241m.\u001b[39many():\n\u001b[1;32m   6933\u001b[0m     \u001b[38;5;28;01mif\u001b[39;00m errors \u001b[38;5;241m!=\u001b[39m \u001b[38;5;124m\"\u001b[39m\u001b[38;5;124mignore\u001b[39m\u001b[38;5;124m\"\u001b[39m:\n\u001b[0;32m-> 6934\u001b[0m         \u001b[38;5;28;01mraise\u001b[39;00m \u001b[38;5;167;01mKeyError\u001b[39;00m(\u001b[38;5;124mf\u001b[39m\u001b[38;5;124m\"\u001b[39m\u001b[38;5;132;01m{\u001b[39;00m\u001b[38;5;28mlist\u001b[39m(labels[mask])\u001b[38;5;132;01m}\u001b[39;00m\u001b[38;5;124m not found in axis\u001b[39m\u001b[38;5;124m\"\u001b[39m)\n\u001b[1;32m   6935\u001b[0m     indexer \u001b[38;5;241m=\u001b[39m indexer[\u001b[38;5;241m~\u001b[39mmask]\n\u001b[1;32m   6936\u001b[0m \u001b[38;5;28;01mreturn\u001b[39;00m \u001b[38;5;28mself\u001b[39m\u001b[38;5;241m.\u001b[39mdelete(indexer)\n",
      "\u001b[0;31mKeyError\u001b[0m: \"['O11', 'S04', 'S07', 'U01', 'U02', 'U03', 'U06'] not found in axis\""
     ]
    }
   ],
   "source": [
    "df_score = df_score.drop(['O11','S04','S07','U01','U02','U03','U06'], axis = 1)"
   ]
  },
  {
   "cell_type": "code",
   "execution_count": 71,
   "metadata": {},
   "outputs": [],
   "source": [
    "df_score.fillna(-1, inplace = True)"
   ]
  },
  {
   "cell_type": "code",
   "execution_count": 72,
   "metadata": {},
   "outputs": [],
   "source": [
    "score_pred = svm_model.predict(df_score)"
   ]
  },
  {
   "cell_type": "code",
   "execution_count": 74,
   "metadata": {},
   "outputs": [],
   "source": [
    "score_pred = pd.DataFrame(score_pred, columns = ['survival_7_years'])"
   ]
  },
  {
   "cell_type": "code",
   "execution_count": 75,
   "metadata": {},
   "outputs": [
    {
     "data": {
      "text/html": [
       "<div>\n",
       "<style scoped>\n",
       "    .dataframe tbody tr th:only-of-type {\n",
       "        vertical-align: middle;\n",
       "    }\n",
       "\n",
       "    .dataframe tbody tr th {\n",
       "        vertical-align: top;\n",
       "    }\n",
       "\n",
       "    .dataframe thead th {\n",
       "        text-align: right;\n",
       "    }\n",
       "</style>\n",
       "<table border=\"1\" class=\"dataframe\">\n",
       "  <thead>\n",
       "    <tr style=\"text-align: right;\">\n",
       "      <th></th>\n",
       "      <th>survival_7_years</th>\n",
       "    </tr>\n",
       "  </thead>\n",
       "  <tbody>\n",
       "    <tr>\n",
       "      <th>0</th>\n",
       "      <td>0</td>\n",
       "    </tr>\n",
       "    <tr>\n",
       "      <th>1</th>\n",
       "      <td>0</td>\n",
       "    </tr>\n",
       "    <tr>\n",
       "      <th>2</th>\n",
       "      <td>1</td>\n",
       "    </tr>\n",
       "    <tr>\n",
       "      <th>3</th>\n",
       "      <td>0</td>\n",
       "    </tr>\n",
       "    <tr>\n",
       "      <th>4</th>\n",
       "      <td>1</td>\n",
       "    </tr>\n",
       "    <tr>\n",
       "      <th>...</th>\n",
       "      <td>...</td>\n",
       "    </tr>\n",
       "    <tr>\n",
       "      <th>11526</th>\n",
       "      <td>0</td>\n",
       "    </tr>\n",
       "    <tr>\n",
       "      <th>11527</th>\n",
       "      <td>0</td>\n",
       "    </tr>\n",
       "    <tr>\n",
       "      <th>11528</th>\n",
       "      <td>0</td>\n",
       "    </tr>\n",
       "    <tr>\n",
       "      <th>11529</th>\n",
       "      <td>0</td>\n",
       "    </tr>\n",
       "    <tr>\n",
       "      <th>11530</th>\n",
       "      <td>1</td>\n",
       "    </tr>\n",
       "  </tbody>\n",
       "</table>\n",
       "<p>11531 rows × 1 columns</p>\n",
       "</div>"
      ],
      "text/plain": [
       "       survival_7_years\n",
       "0                     0\n",
       "1                     0\n",
       "2                     1\n",
       "3                     0\n",
       "4                     1\n",
       "...                 ...\n",
       "11526                 0\n",
       "11527                 0\n",
       "11528                 0\n",
       "11529                 0\n",
       "11530                 1\n",
       "\n",
       "[11531 rows x 1 columns]"
      ]
     },
     "execution_count": 75,
     "metadata": {},
     "output_type": "execute_result"
    }
   ],
   "source": [
    "score_pred"
   ]
  },
  {
   "cell_type": "code",
   "execution_count": 77,
   "metadata": {},
   "outputs": [],
   "source": [
    "pred1 = score_pred[score_pred.survival_7_years == 0]\n",
    "pred0 = score_pred[score_pred.survival_7_years != 0]"
   ]
  },
  {
   "cell_type": "code",
   "execution_count": 78,
   "metadata": {},
   "outputs": [
    {
     "name": "stdout",
     "output_type": "stream",
     "text": [
      "(7418, 1)\n"
     ]
    }
   ],
   "source": [
    "print(pred1.shape)"
   ]
  },
  {
   "cell_type": "code",
   "execution_count": 87,
   "metadata": {},
   "outputs": [
    {
     "name": "stdout",
     "output_type": "stream",
     "text": [
      "(4113, 1)\n"
     ]
    }
   ],
   "source": [
    "print(pred0.shape)"
   ]
  },
  {
   "cell_type": "code",
   "execution_count": 107,
   "metadata": {},
   "outputs": [
    {
     "data": {
      "text/plain": [
       "survival_7_years    0\n",
       "dtype: int64"
      ]
     },
     "execution_count": 107,
     "metadata": {},
     "output_type": "execute_result"
    }
   ],
   "source": [
    "score_pred.isna().sum()"
   ]
  },
  {
   "cell_type": "code",
   "execution_count": 108,
   "metadata": {},
   "outputs": [],
   "source": [
    "group2_score = pd.read_csv('participant_files/(name)_score.csv')"
   ]
  },
  {
   "cell_type": "code",
   "execution_count": 109,
   "metadata": {},
   "outputs": [],
   "source": [
    "group2_score = group2_score.drop(['survival_7_years'], axis = 1)"
   ]
  },
  {
   "cell_type": "code",
   "execution_count": 110,
   "metadata": {},
   "outputs": [
    {
     "data": {
      "text/plain": [
       "id                         0\n",
       "diagnosis_date             0\n",
       "gleason_score            239\n",
       "t_score                    0\n",
       "n_score                    0\n",
       "m_score                    0\n",
       "stage                      0\n",
       "age                      648\n",
       "race                     121\n",
       "height                  1043\n",
       "weight                  1041\n",
       "family_history          1171\n",
       "first_degree_history    1171\n",
       "previous_cancer         1171\n",
       "smoker                  1171\n",
       "side                       0\n",
       "tumor_diagnosis          210\n",
       "tumor_6_months          7555\n",
       "tumor_1_year            1604\n",
       "psa_diagnosis           1029\n",
       "psa_6_months            7146\n",
       "psa_1_year              1915\n",
       "tea                     1171\n",
       "symptoms                 324\n",
       "rd_thrpy                   0\n",
       "h_thrpy                    0\n",
       "chm_thrpy                  0\n",
       "cry_thrpy                  0\n",
       "brch_thrpy                 0\n",
       "rad_rem                    0\n",
       "multi_thrpy                0\n",
       "survival_1_year         5713\n",
       "dtype: int64"
      ]
     },
     "execution_count": 110,
     "metadata": {},
     "output_type": "execute_result"
    }
   ],
   "source": [
    "group2_score.isna().sum()"
   ]
  },
  {
   "cell_type": "code",
   "execution_count": 112,
   "metadata": {},
   "outputs": [],
   "source": [
    "group2_score = pd.concat([group2_score, score_pred], axis = 1)"
   ]
  },
  {
   "cell_type": "code",
   "execution_count": 113,
   "metadata": {},
   "outputs": [
    {
     "data": {
      "text/html": [
       "<div>\n",
       "<style scoped>\n",
       "    .dataframe tbody tr th:only-of-type {\n",
       "        vertical-align: middle;\n",
       "    }\n",
       "\n",
       "    .dataframe tbody tr th {\n",
       "        vertical-align: top;\n",
       "    }\n",
       "\n",
       "    .dataframe thead th {\n",
       "        text-align: right;\n",
       "    }\n",
       "</style>\n",
       "<table border=\"1\" class=\"dataframe\">\n",
       "  <thead>\n",
       "    <tr style=\"text-align: right;\">\n",
       "      <th></th>\n",
       "      <th>id</th>\n",
       "      <th>diagnosis_date</th>\n",
       "      <th>gleason_score</th>\n",
       "      <th>t_score</th>\n",
       "      <th>n_score</th>\n",
       "      <th>m_score</th>\n",
       "      <th>stage</th>\n",
       "      <th>age</th>\n",
       "      <th>race</th>\n",
       "      <th>height</th>\n",
       "      <th>...</th>\n",
       "      <th>symptoms</th>\n",
       "      <th>rd_thrpy</th>\n",
       "      <th>h_thrpy</th>\n",
       "      <th>chm_thrpy</th>\n",
       "      <th>cry_thrpy</th>\n",
       "      <th>brch_thrpy</th>\n",
       "      <th>rad_rem</th>\n",
       "      <th>multi_thrpy</th>\n",
       "      <th>survival_1_year</th>\n",
       "      <th>survival_7_years</th>\n",
       "    </tr>\n",
       "  </thead>\n",
       "  <tbody>\n",
       "    <tr>\n",
       "      <th>0</th>\n",
       "      <td>20001</td>\n",
       "      <td>Oct-05</td>\n",
       "      <td>8.0</td>\n",
       "      <td>T3b</td>\n",
       "      <td>N0</td>\n",
       "      <td>M0</td>\n",
       "      <td>III</td>\n",
       "      <td>79.0</td>\n",
       "      <td>4.0</td>\n",
       "      <td>68.0</td>\n",
       "      <td>...</td>\n",
       "      <td>U01,U02,S10</td>\n",
       "      <td>1</td>\n",
       "      <td>1</td>\n",
       "      <td>1</td>\n",
       "      <td>0</td>\n",
       "      <td>0</td>\n",
       "      <td>0</td>\n",
       "      <td>1</td>\n",
       "      <td>NaN</td>\n",
       "      <td>0</td>\n",
       "    </tr>\n",
       "    <tr>\n",
       "      <th>1</th>\n",
       "      <td>20002</td>\n",
       "      <td>Jun-02</td>\n",
       "      <td>10.0</td>\n",
       "      <td>T2c</td>\n",
       "      <td>N0</td>\n",
       "      <td>M0</td>\n",
       "      <td>IIB</td>\n",
       "      <td>84.0</td>\n",
       "      <td>2.0</td>\n",
       "      <td>70.0</td>\n",
       "      <td>...</td>\n",
       "      <td>U01,U02,S07</td>\n",
       "      <td>1</td>\n",
       "      <td>0</td>\n",
       "      <td>0</td>\n",
       "      <td>1</td>\n",
       "      <td>0</td>\n",
       "      <td>0</td>\n",
       "      <td>1</td>\n",
       "      <td>NaN</td>\n",
       "      <td>0</td>\n",
       "    </tr>\n",
       "    <tr>\n",
       "      <th>2</th>\n",
       "      <td>20003</td>\n",
       "      <td>Mar-04</td>\n",
       "      <td>6.0</td>\n",
       "      <td>T4</td>\n",
       "      <td>N0</td>\n",
       "      <td>M0</td>\n",
       "      <td>IV</td>\n",
       "      <td>NaN</td>\n",
       "      <td>4.0</td>\n",
       "      <td>68.0</td>\n",
       "      <td>...</td>\n",
       "      <td>U06,S07,O11</td>\n",
       "      <td>0</td>\n",
       "      <td>0</td>\n",
       "      <td>1</td>\n",
       "      <td>1</td>\n",
       "      <td>0</td>\n",
       "      <td>0</td>\n",
       "      <td>1</td>\n",
       "      <td>NaN</td>\n",
       "      <td>1</td>\n",
       "    </tr>\n",
       "    <tr>\n",
       "      <th>3</th>\n",
       "      <td>20004</td>\n",
       "      <td>Oct-03</td>\n",
       "      <td>7.0</td>\n",
       "      <td>T4</td>\n",
       "      <td>N1</td>\n",
       "      <td>M1a</td>\n",
       "      <td>IV</td>\n",
       "      <td>73.0</td>\n",
       "      <td>4.0</td>\n",
       "      <td>69.0</td>\n",
       "      <td>...</td>\n",
       "      <td>S07,P03</td>\n",
       "      <td>1</td>\n",
       "      <td>0</td>\n",
       "      <td>1</td>\n",
       "      <td>0</td>\n",
       "      <td>1</td>\n",
       "      <td>0</td>\n",
       "      <td>1</td>\n",
       "      <td>0.0</td>\n",
       "      <td>0</td>\n",
       "    </tr>\n",
       "    <tr>\n",
       "      <th>4</th>\n",
       "      <td>20005</td>\n",
       "      <td>Mar-06</td>\n",
       "      <td>6.0</td>\n",
       "      <td>T1b</td>\n",
       "      <td>N0</td>\n",
       "      <td>M0</td>\n",
       "      <td>IIA</td>\n",
       "      <td>81.0</td>\n",
       "      <td>1.0</td>\n",
       "      <td>69.0</td>\n",
       "      <td>...</td>\n",
       "      <td>U01,U03,U06,O11</td>\n",
       "      <td>0</td>\n",
       "      <td>0</td>\n",
       "      <td>1</td>\n",
       "      <td>1</td>\n",
       "      <td>0</td>\n",
       "      <td>0</td>\n",
       "      <td>1</td>\n",
       "      <td>NaN</td>\n",
       "      <td>1</td>\n",
       "    </tr>\n",
       "    <tr>\n",
       "      <th>...</th>\n",
       "      <td>...</td>\n",
       "      <td>...</td>\n",
       "      <td>...</td>\n",
       "      <td>...</td>\n",
       "      <td>...</td>\n",
       "      <td>...</td>\n",
       "      <td>...</td>\n",
       "      <td>...</td>\n",
       "      <td>...</td>\n",
       "      <td>...</td>\n",
       "      <td>...</td>\n",
       "      <td>...</td>\n",
       "      <td>...</td>\n",
       "      <td>...</td>\n",
       "      <td>...</td>\n",
       "      <td>...</td>\n",
       "      <td>...</td>\n",
       "      <td>...</td>\n",
       "      <td>...</td>\n",
       "      <td>...</td>\n",
       "      <td>...</td>\n",
       "    </tr>\n",
       "    <tr>\n",
       "      <th>11526</th>\n",
       "      <td>31527</td>\n",
       "      <td>Sep-06</td>\n",
       "      <td>10.0</td>\n",
       "      <td>T4</td>\n",
       "      <td>N1</td>\n",
       "      <td>M0</td>\n",
       "      <td>IV</td>\n",
       "      <td>80.0</td>\n",
       "      <td>4.0</td>\n",
       "      <td>70.0</td>\n",
       "      <td>...</td>\n",
       "      <td>U01,U02,U06,S07</td>\n",
       "      <td>0</td>\n",
       "      <td>1</td>\n",
       "      <td>1</td>\n",
       "      <td>1</td>\n",
       "      <td>0</td>\n",
       "      <td>0</td>\n",
       "      <td>1</td>\n",
       "      <td>1.0</td>\n",
       "      <td>0</td>\n",
       "    </tr>\n",
       "    <tr>\n",
       "      <th>11527</th>\n",
       "      <td>31528</td>\n",
       "      <td>Nov-02</td>\n",
       "      <td>7.0</td>\n",
       "      <td>T4</td>\n",
       "      <td>N1</td>\n",
       "      <td>M0</td>\n",
       "      <td>IV</td>\n",
       "      <td>73.0</td>\n",
       "      <td>3.0</td>\n",
       "      <td>69.0</td>\n",
       "      <td>...</td>\n",
       "      <td>U01,U02,U03,U06</td>\n",
       "      <td>0</td>\n",
       "      <td>1</td>\n",
       "      <td>1</td>\n",
       "      <td>0</td>\n",
       "      <td>0</td>\n",
       "      <td>0</td>\n",
       "      <td>1</td>\n",
       "      <td>1.0</td>\n",
       "      <td>0</td>\n",
       "    </tr>\n",
       "    <tr>\n",
       "      <th>11528</th>\n",
       "      <td>31529</td>\n",
       "      <td>Oct-02</td>\n",
       "      <td>10.0</td>\n",
       "      <td>T4</td>\n",
       "      <td>N0</td>\n",
       "      <td>M0</td>\n",
       "      <td>IV</td>\n",
       "      <td>62.0</td>\n",
       "      <td>4.0</td>\n",
       "      <td>NaN</td>\n",
       "      <td>...</td>\n",
       "      <td>U01,U03,U05,S04</td>\n",
       "      <td>1</td>\n",
       "      <td>0</td>\n",
       "      <td>1</td>\n",
       "      <td>0</td>\n",
       "      <td>0</td>\n",
       "      <td>0</td>\n",
       "      <td>1</td>\n",
       "      <td>1.0</td>\n",
       "      <td>0</td>\n",
       "    </tr>\n",
       "    <tr>\n",
       "      <th>11529</th>\n",
       "      <td>31530</td>\n",
       "      <td>Nov-01</td>\n",
       "      <td>10.0</td>\n",
       "      <td>T1a</td>\n",
       "      <td>N0</td>\n",
       "      <td>M0</td>\n",
       "      <td>IIB</td>\n",
       "      <td>78.0</td>\n",
       "      <td>4.0</td>\n",
       "      <td>67.0</td>\n",
       "      <td>...</td>\n",
       "      <td>U02</td>\n",
       "      <td>1</td>\n",
       "      <td>1</td>\n",
       "      <td>1</td>\n",
       "      <td>1</td>\n",
       "      <td>0</td>\n",
       "      <td>1</td>\n",
       "      <td>1</td>\n",
       "      <td>NaN</td>\n",
       "      <td>0</td>\n",
       "    </tr>\n",
       "    <tr>\n",
       "      <th>11530</th>\n",
       "      <td>31531</td>\n",
       "      <td>Mar-06</td>\n",
       "      <td>5.0</td>\n",
       "      <td>T2c</td>\n",
       "      <td>N0</td>\n",
       "      <td>M0</td>\n",
       "      <td>IIB</td>\n",
       "      <td>78.0</td>\n",
       "      <td>4.0</td>\n",
       "      <td>NaN</td>\n",
       "      <td>...</td>\n",
       "      <td>U01,U03</td>\n",
       "      <td>0</td>\n",
       "      <td>0</td>\n",
       "      <td>1</td>\n",
       "      <td>0</td>\n",
       "      <td>1</td>\n",
       "      <td>0</td>\n",
       "      <td>1</td>\n",
       "      <td>NaN</td>\n",
       "      <td>1</td>\n",
       "    </tr>\n",
       "  </tbody>\n",
       "</table>\n",
       "<p>11531 rows × 33 columns</p>\n",
       "</div>"
      ],
      "text/plain": [
       "          id diagnosis_date  gleason_score t_score n_score m_score stage  \\\n",
       "0      20001         Oct-05            8.0     T3b      N0      M0   III   \n",
       "1      20002         Jun-02           10.0     T2c      N0      M0   IIB   \n",
       "2      20003         Mar-04            6.0      T4      N0      M0    IV   \n",
       "3      20004         Oct-03            7.0      T4      N1     M1a    IV   \n",
       "4      20005         Mar-06            6.0     T1b      N0      M0   IIA   \n",
       "...      ...            ...            ...     ...     ...     ...   ...   \n",
       "11526  31527         Sep-06           10.0      T4      N1      M0    IV   \n",
       "11527  31528         Nov-02            7.0      T4      N1      M0    IV   \n",
       "11528  31529         Oct-02           10.0      T4      N0      M0    IV   \n",
       "11529  31530         Nov-01           10.0     T1a      N0      M0   IIB   \n",
       "11530  31531         Mar-06            5.0     T2c      N0      M0   IIB   \n",
       "\n",
       "        age  race  height  ...         symptoms  rd_thrpy  h_thrpy  chm_thrpy  \\\n",
       "0      79.0   4.0    68.0  ...      U01,U02,S10         1        1          1   \n",
       "1      84.0   2.0    70.0  ...      U01,U02,S07         1        0          0   \n",
       "2       NaN   4.0    68.0  ...      U06,S07,O11         0        0          1   \n",
       "3      73.0   4.0    69.0  ...          S07,P03         1        0          1   \n",
       "4      81.0   1.0    69.0  ...  U01,U03,U06,O11         0        0          1   \n",
       "...     ...   ...     ...  ...              ...       ...      ...        ...   \n",
       "11526  80.0   4.0    70.0  ...  U01,U02,U06,S07         0        1          1   \n",
       "11527  73.0   3.0    69.0  ...  U01,U02,U03,U06         0        1          1   \n",
       "11528  62.0   4.0     NaN  ...  U01,U03,U05,S04         1        0          1   \n",
       "11529  78.0   4.0    67.0  ...              U02         1        1          1   \n",
       "11530  78.0   4.0     NaN  ...          U01,U03         0        0          1   \n",
       "\n",
       "       cry_thrpy brch_thrpy  rad_rem  multi_thrpy  survival_1_year  \\\n",
       "0              0          0        0            1              NaN   \n",
       "1              1          0        0            1              NaN   \n",
       "2              1          0        0            1              NaN   \n",
       "3              0          1        0            1              0.0   \n",
       "4              1          0        0            1              NaN   \n",
       "...          ...        ...      ...          ...              ...   \n",
       "11526          1          0        0            1              1.0   \n",
       "11527          0          0        0            1              1.0   \n",
       "11528          0          0        0            1              1.0   \n",
       "11529          1          0        1            1              NaN   \n",
       "11530          0          1        0            1              NaN   \n",
       "\n",
       "       survival_7_years  \n",
       "0                     0  \n",
       "1                     0  \n",
       "2                     1  \n",
       "3                     0  \n",
       "4                     1  \n",
       "...                 ...  \n",
       "11526                 0  \n",
       "11527                 0  \n",
       "11528                 0  \n",
       "11529                 0  \n",
       "11530                 1  \n",
       "\n",
       "[11531 rows x 33 columns]"
      ]
     },
     "execution_count": 113,
     "metadata": {},
     "output_type": "execute_result"
    }
   ],
   "source": [
    "group2_score"
   ]
  },
  {
   "cell_type": "code",
   "execution_count": 114,
   "metadata": {},
   "outputs": [
    {
     "data": {
      "text/plain": [
       "id                         0\n",
       "diagnosis_date             0\n",
       "gleason_score            239\n",
       "t_score                    0\n",
       "n_score                    0\n",
       "m_score                    0\n",
       "stage                      0\n",
       "age                      648\n",
       "race                     121\n",
       "height                  1043\n",
       "weight                  1041\n",
       "family_history          1171\n",
       "first_degree_history    1171\n",
       "previous_cancer         1171\n",
       "smoker                  1171\n",
       "side                       0\n",
       "tumor_diagnosis          210\n",
       "tumor_6_months          7555\n",
       "tumor_1_year            1604\n",
       "psa_diagnosis           1029\n",
       "psa_6_months            7146\n",
       "psa_1_year              1915\n",
       "tea                     1171\n",
       "symptoms                 324\n",
       "rd_thrpy                   0\n",
       "h_thrpy                    0\n",
       "chm_thrpy                  0\n",
       "cry_thrpy                  0\n",
       "brch_thrpy                 0\n",
       "rad_rem                    0\n",
       "multi_thrpy                0\n",
       "survival_1_year         5713\n",
       "survival_7_years           0\n",
       "dtype: int64"
      ]
     },
     "execution_count": 114,
     "metadata": {},
     "output_type": "execute_result"
    }
   ],
   "source": [
    "group2_score.isna().sum()"
   ]
  },
  {
   "cell_type": "code",
   "execution_count": 115,
   "metadata": {},
   "outputs": [],
   "source": [
    "group2_score.to_csv('group2_score.csv', index=False)"
   ]
  }
 ],
 "metadata": {
  "kernelspec": {
   "display_name": "Python 3 (ipykernel)",
   "language": "python",
   "name": "python3"
  },
  "language_info": {
   "codemirror_mode": {
    "name": "ipython",
    "version": 3
   },
   "file_extension": ".py",
   "mimetype": "text/x-python",
   "name": "python",
   "nbconvert_exporter": "python",
   "pygments_lexer": "ipython3",
   "version": "3.9.6"
  },
  "vscode": {
   "interpreter": {
    "hash": "31f2aee4e71d21fbe5cf8b01ff0e069b9275f58929596ceb00d14d90e3e16cd6"
   }
  }
 },
 "nbformat": 4,
 "nbformat_minor": 2
}
